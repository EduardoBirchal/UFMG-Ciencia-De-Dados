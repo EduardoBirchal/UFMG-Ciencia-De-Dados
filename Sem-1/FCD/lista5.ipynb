{
  "cells": [
    {
      "cell_type": "markdown",
      "metadata": {
        "id": "9rDg4kyGh5zn"
      },
      "source": [
        "# Laboratório 5: Reamostragem e Bootstrapping\n",
        "\n",
        "Bem-vindo ao Laboratório 5! Nesta tarefa, desenvolveremos uma compreensão mais aprofundada sobre estimativa de parâmetros e inicialização, sobre a qual você pode aprender mais em [CIT 13](https://inferentialthinking.com/chapters/13/Estimation.html). As palestras relevantes são as Aulas 13, 17 e 18.\n",
        "\n",
        "Você deve concluir todo este laboratório e enviá-lo ao Moodle até às 23h59 da data de vencimento."
      ]
    },
    {
      "cell_type": "code",
      "execution_count": 57,
      "metadata": {
        "id": "9uSIfiooiIlj"
      },
      "outputs": [
        {
          "name": "stdout",
          "output_type": "stream",
          "text": [
            "Collecting babypandas==0.1.8\n",
            "  Using cached babypandas-0.1.8-py3-none-any.whl (14 kB)\n",
            "Collecting pandas>=0.24\n",
            "  Using cached pandas-2.2.2-cp311-cp311-win_amd64.whl (11.6 MB)\n",
            "Collecting numpy\n",
            "  Using cached numpy-2.1.0-cp311-cp311-win_amd64.whl (12.9 MB)\n",
            "Collecting python-dateutil>=2.8.2\n",
            "  Using cached python_dateutil-2.9.0.post0-py2.py3-none-any.whl (229 kB)\n",
            "Collecting pytz>=2020.1\n",
            "  Using cached pytz-2024.1-py2.py3-none-any.whl (505 kB)\n",
            "Collecting tzdata>=2022.7\n",
            "  Using cached tzdata-2024.1-py2.py3-none-any.whl (345 kB)\n",
            "Collecting six>=1.5\n",
            "  Using cached six-1.16.0-py2.py3-none-any.whl (11 kB)\n",
            "Installing collected packages: pytz, tzdata, six, numpy, python-dateutil, pandas, babypandas\n",
            "  Attempting uninstall: pytz\n",
            "    Found existing installation: pytz 2024.1\n",
            "    Uninstalling pytz-2024.1:\n",
            "      Successfully uninstalled pytz-2024.1\n",
            "  Attempting uninstall: tzdata\n",
            "    Found existing installation: tzdata 2024.1\n",
            "    Uninstalling tzdata-2024.1:\n",
            "      Successfully uninstalled tzdata-2024.1\n",
            "  Attempting uninstall: six\n",
            "    Found existing installation: six 1.16.0\n",
            "    Uninstalling six-1.16.0:\n",
            "      Successfully uninstalled six-1.16.0\n",
            "  Attempting uninstall: numpy\n",
            "    Found existing installation: numpy 2.1.0\n",
            "    Uninstalling numpy-2.1.0:\n",
            "      Successfully uninstalled numpy-2.1.0\n"
          ]
        },
        {
          "name": "stderr",
          "output_type": "stream",
          "text": [
            "ERROR: Could not install packages due to an OSError: [WinError 5] Acesso negado: 'C:\\\\Users\\\\edubi\\\\AppData\\\\Local\\\\Programs\\\\Python\\\\Python311\\\\Lib\\\\site-packages\\\\~-mpy.libs\\\\libscipy_openblas64_-c16e4918366c6bc1f1cd71e28ca36fc0.dll'\n",
            "Consider using the `--user` option or check the permissions.\n",
            "\n",
            "\n",
            "[notice] A new release of pip available: 22.3.1 -> 24.2\n",
            "[notice] To update, run: python.exe -m pip install --upgrade pip\n"
          ]
        }
      ],
      "source": [
        "# Descomente para executar no Colab\n",
        "! pip install babypandas==0.1.8 --force-reinstall"
      ]
    },
    {
      "cell_type": "code",
      "execution_count": 58,
      "metadata": {
        "id": "SpHcPgQ-h5zo"
      },
      "outputs": [],
      "source": [
        "# Imports\n",
        "import numpy as np\n",
        "import babypandas as bpd\n",
        "import math\n",
        "\n",
        "\n",
        "\n",
        "import matplotlib.pyplot as plt\n",
        "plt.style.use('ggplot')\n",
        "plt.rcParams['figure.figsize'] = (10, 5)\n",
        "\n",
        "from IPython.display import YouTubeVideo, IFrame\n",
        "\n",
        "def show_bootstrapping_slides():\n",
        "    src = \"https://docs.google.com/presentation/d/e/2PACX-1vS_iYHJYXSVMMZ-YQVFwMEFR6EFN3FDSAvaMyUm-YJfLQgRMTHm3vI-wWJJ5999eFJq70nWp2hyItZg/embed?start=false&loop=false&delayms=3000\"\n",
        "    width = 600\n",
        "    height = 320\n",
        "    display(IFrame(src, width, height))"
      ]
    },
    {
      "cell_type": "markdown",
      "metadata": {
        "id": "B7pHc2mph5zp"
      },
      "source": [
        "### Vídeo complementar sobre loops `for` e quando NÃO usá-los\n",
        "\n",
        "Elaboramos um vídeo revisando algumas das maneiras de realizar tarefas repetitivas (por exemplo, amostragem aleatória, execução de operações em cada elemento de uma coluna) **sem** usar um loop `for`. Também veremos quando exatamente você precisa de um loop `for` nesta classe (executando um experimento muitas vezes). Isso é importante, porque usar um loop `for` quando não é necessário é uma **má** idéia, uma vez que o código resultante é bastante lento e difícil de debugar.\n",
        "\n",
        "Se você está se sentindo um pouco confuso nas simulações de iteração e codificação, você pode dar uma olhada na revisão!"
      ]
    },
    {
      "cell_type": "code",
      "execution_count": 59,
      "metadata": {
        "id": "itJnJoNvh5zq"
      },
      "outputs": [
        {
          "data": {
            "image/jpeg": "[encoded data removed]",
            "text/html": [
              "\n",
              "        <iframe\n",
              "            width=\"400\"\n",
              "            height=\"300\"\n",
              "            src=\"https://www.youtube.com/embed/BlczSBT80fU\"\n",
              "            frameborder=\"0\"\n",
              "            allowfullscreen\n",
              "            \n",
              "        ></iframe>\n",
              "        "
            ],
            "text/plain": [
              "<IPython.lib.display.YouTubeVideo at 0x246c57b4710>"
            ]
          },
          "execution_count": 59,
          "metadata": {},
          "output_type": "execute_result"
        }
      ],
      "source": [
        "# Rode essa célula.\n",
        "YouTubeVideo('BlczSBT80fU')"
      ]
    },
    {
      "cell_type": "markdown",
      "metadata": {
        "id": "BS093W7Eh5zq"
      },
      "source": [
        "## 0. Percentis 🅿️\n",
        "\n",
        "Antes de começarmos, precisamos apresentar o conceito de percentis. Os percentis associam números em um conjunto de dados às suas posições quando o conjunto de dados é classificado em ordem crescente.\n",
        "\n",
        "Dada qualquer sequência (ou seja, lista, matriz ou série) de valores numéricos, imagine classificar os valores em ordem crescente para criar uma sequência classificada. Grosso modo, o $p$-ésimo percentil desta sequência é o valor que é $p$ por cento do caminho através da sequência. Por exemplo, o percentil 10 é apenas 10% do caminho (no início), o percentil 50 está na metade (no meio) e o percentil 90 é 90% do caminho (no final).\n",
        "\n",
        "Existem muitas maneiras diferentes de definir com precisão um percentil. Nesta aula, consideraremos duas abordagens diferentes. Você deve pensar nisso como duas maneiras diferentes e separadas de definir um percentil. Eles nem sempre concordam!\n",
        "\n",
        "### A definição matemática\n",
        "\n",
        "> Seja $p$ um número entre 0 e 100. O $p$-ésimo percentil de uma coleção é o menor valor na coleção que é *pelo menos tão grande* quanto $p$% de todos os valores.\n",
        "\n",
        "Com esta definição, qualquer percentil é sempre um elemento da coleção.\n",
        "\n",
        "### A definição `numpy`\n",
        "\n",
        "O pacote `numpy` fornece uma função `np.percentile` que recebe duas entradas: uma matriz de números e um valor `p`. Ele retorna um número que representa o `p`ésimo percentil da matriz. Você não precisa saber como ele calcula esse valor, mas você deve saber:\n",
        "- nem sempre é igual à definição matemática dada acima (embora seja próxima), e\n",
        "- nem sempre é um elemento do array."
      ]
    },
    {
      "cell_type": "markdown",
      "metadata": {
        "id": "Ry72Rxo2h5zq"
      },
      "source": [
        "#### Pergunta 0.1.\n",
        "\n",
        "Digamos que você esteja em uma turma com 10 alunos e as notas de todos os alunos da turma estão armazenadas na matriz `grades`. Sua pontuação é 84."
      ]
    },
    {
      "cell_type": "code",
      "execution_count": 60,
      "metadata": {
        "id": "UvR3D1y8h5zq"
      },
      "outputs": [],
      "source": [
        "grades = np.array([56, 65, 67, 72, 74, 78, 78, 80, 84, 94])"
      ]
    },
    {
      "cell_type": "markdown",
      "metadata": {
        "deletable": false,
        "editable": false,
        "id": "12tYuSVgh5zq"
      },
      "source": [
        "Qual das seguintes afirmações são verdadeiras? Use a definição matemática de percentil aqui.\n",
        "\n",
        "1. A pontuação mais alta é o percentil 100.\n",
        "2. Sua pontuação é superior ao percentil 80.\n",
        "3. Sua pontuação é inferior ao percentil 81.\n",
        "4. Sua pontuação é o 86º percentil.\n",
        "5. Uma pontuação de 78 é o percentil 50.\n",
        "\n",
        "Atribua `true_percentile` a uma `lista` contendo os números das afirmações verdadeiras."
      ]
    },
    {
      "cell_type": "code",
      "execution_count": 61,
      "metadata": {
        "id": "Oe2HLHMlh5zr"
      },
      "outputs": [
        {
          "data": {
            "text/plain": [
              "[np.True_, np.True_, np.False_, np.False_, np.True_]"
            ]
          },
          "execution_count": 61,
          "metadata": {},
          "output_type": "execute_result"
        }
      ],
      "source": [
        "true_percentile  = [grades.max() == np.percentile(grades, 100) , 84 > np.percentile(grades, 80), 84 < np.percentile(grades, 81), 84 == np.percentile(grades, 86), 76 == np.percentile(grades, 50)]\n",
        "true_percentile"
      ]
    },
    {
      "cell_type": "markdown",
      "metadata": {
        "id": "UEWeQdwxh5zr"
      },
      "source": [
        "#### Pergunta 0.2.\n",
        "Use `np.percentile` para calcular o 50º percentil da matriz `grades` e salve o resultado como `p_50`."
      ]
    },
    {
      "cell_type": "code",
      "execution_count": 62,
      "metadata": {
        "id": "qsGxFOexh5zr"
      },
      "outputs": [
        {
          "data": {
            "text/plain": [
              "np.float64(76.0)"
            ]
          },
          "execution_count": 62,
          "metadata": {},
          "output_type": "execute_result"
        }
      ],
      "source": [
        "p_50 = np.percentile(grades, 50)\n",
        "p_50"
      ]
    },
    {
      "cell_type": "markdown",
      "metadata": {
        "id": "qiRc9LmYh5zr"
      },
      "source": [
        "#### Pergunta 0.3.\n",
        "Use `np.median` para calcular o valor mediano da matriz `grades` e salve o resultado como `median_grade`.\n",
        "\n",
        "**Manualmente** compare-o com sua resposta da Pergunta 0.2. Defina a variável `same` como `True` se os dois valores forem iguais e `False` se forem diferentes. Não use if/else para esta pergunta."
      ]
    },
    {
      "cell_type": "code",
      "execution_count": 63,
      "metadata": {
        "id": "FgImqXhkh5zs"
      },
      "outputs": [
        {
          "name": "stdout",
          "output_type": "stream",
          "text": [
            "76.0\n"
          ]
        },
        {
          "data": {
            "text/plain": [
              "np.True_"
            ]
          },
          "execution_count": 63,
          "metadata": {},
          "output_type": "execute_result"
        }
      ],
      "source": [
        "median_grade = np.median(grades)\n",
        "print(median_grade)\n",
        "same = p_50 == median_grade\n",
        "same"
      ]
    },
    {
      "cell_type": "markdown",
      "metadata": {
        "id": "0d2pASbTh5zs"
      },
      "source": [
        "## 1. Preliminares da Inteligência Aliada 🧠\n",
        "\n",
        "Ao longo deste laboratório, estudaremos um problema estatístico conhecido como [German tank problem](https://en.wikipedia.org/wiki/German_tank_problem).\n",
        "\n",
        "Na Segunda Guerra Mundial, os Aliados (liderados pelos EUA, Reino Unido e União Soviética) queriam saber quantos tanques militares os alemães tinham produzido. No entanto, eles não conseguiram ver todos os tanques produzidos pelos alemães – em vez disso, tudo o que viram foi uma **amostra** aleatória de tanques.\n",
        "\n",
        "Para enquadrar o problema com mais precisão, considere que os tanques receberam números de série que variam de 1 a `N`, onde `N` era o número total de tanques produzidos. Os Aliados estavam tentando estimar `N`, um **parâmetro populacional**, usando os números de série dos tanques em sua amostra. Assumiremos que a amostra dos Aliados é uma amostra aleatória simples da população (sorteada sem reposição).\n",
        "\n",
        "<br>\n",
        "\n",
        "<center><img src='https://raw.githubusercontent.com/dsc-courses/dsc10-2023-wi/0c3fbe39e35e9db8cc1716ec5feb8c2f325cc103/labs/lab05/images/tank.jpg' width=400></center>\n",
        "\n",
        "<br>\n",
        "\n",
        "\n",
        "Neste laboratório, dada **apenas** uma amostra aleatória de números de série, estimaremos `N` e, em seguida, usaremos a simulação para descobrir quão precisa é nossa estimativa, sem nunca olhar para toda a população. Este é um exemplo de **inferência estatística** – inferir algo sobre uma população usando apenas as informações de uma amostra."
      ]
    },
    {
      "cell_type": "markdown",
      "metadata": {
        "id": "RSkSmi6Qh5zt"
      },
      "source": [
        "**Pergunta 1.1.** `N` é um parâmetro populacional ou uma estatística?  Se calcularmos um número usando nossa amostra aleatória que é uma estimativa de `N`, isso é um parâmetro populacional ou uma estatística?  Atribua 1, 2, 3 ou 4 à variável `preliminaries_q1` abaixo.\n",
        "1. `N` é um parâmetro populacional.  Uma estimativa de `N` de nossa amostra aleatória é um parâmetro populacional.\n",
        "2. `N` é um parâmetro populacional.  Uma estimativa de `N` de nossa amostra aleatória é uma estatística.\n",
        "3. `N` é uma estatística.  Uma estimativa de `N` de nossa amostra aleatória é um parâmetro populacional.\n",
        "4. `N` é uma estatística.  Uma estimativa de `N` de nossa amostra aleatória é uma estatística."
      ]
    },
    {
      "cell_type": "code",
      "execution_count": 64,
      "metadata": {
        "id": "EjHptCE4h5zt"
      },
      "outputs": [],
      "source": [
        "preliminaries_q1 = 2"
      ]
    },
    {
      "cell_type": "markdown",
      "metadata": {
        "id": "229UKeqDh5zt"
      },
      "source": [
        "Para tornar a situação realista, vamos esconder de você o verdadeiro número de tanques.  Você terá acesso apenas a esta amostra aleatória:"
      ]
    },
    {
      "cell_type": "code",
      "execution_count": 65,
      "metadata": {
        "id": "874l4-Osh5zt"
      },
      "outputs": [
        {
          "data": {
            "text/html": [
              "<div>\n",
              "<style scoped>\n",
              "    .dataframe tbody tr th:only-of-type {\n",
              "        vertical-align: middle;\n",
              "    }\n",
              "\n",
              "    .dataframe tbody tr th {\n",
              "        vertical-align: top;\n",
              "    }\n",
              "\n",
              "    .dataframe thead th {\n",
              "        text-align: right;\n",
              "    }\n",
              "</style>\n",
              "<table border=\"1\" class=\"dataframe\">\n",
              "  <thead>\n",
              "    <tr style=\"text-align: right;\">\n",
              "      <th></th>\n",
              "      <th>serial_number</th>\n",
              "    </tr>\n",
              "  </thead>\n",
              "  <tbody>\n",
              "    <tr>\n",
              "      <th>0</th>\n",
              "      <td>47</td>\n",
              "    </tr>\n",
              "    <tr>\n",
              "      <th>1</th>\n",
              "      <td>42</td>\n",
              "    </tr>\n",
              "    <tr>\n",
              "      <th>2</th>\n",
              "      <td>57</td>\n",
              "    </tr>\n",
              "    <tr>\n",
              "      <th>3</th>\n",
              "      <td>79</td>\n",
              "    </tr>\n",
              "    <tr>\n",
              "      <th>4</th>\n",
              "      <td>26</td>\n",
              "    </tr>\n",
              "    <tr>\n",
              "      <th>...</th>\n",
              "      <td>...</td>\n",
              "    </tr>\n",
              "    <tr>\n",
              "      <th>12</th>\n",
              "      <td>67</td>\n",
              "    </tr>\n",
              "    <tr>\n",
              "      <th>13</th>\n",
              "      <td>108</td>\n",
              "    </tr>\n",
              "    <tr>\n",
              "      <th>14</th>\n",
              "      <td>84</td>\n",
              "    </tr>\n",
              "    <tr>\n",
              "      <th>15</th>\n",
              "      <td>50</td>\n",
              "    </tr>\n",
              "    <tr>\n",
              "      <th>16</th>\n",
              "      <td>78</td>\n",
              "    </tr>\n",
              "  </tbody>\n",
              "</table>\n",
              "<p>17 rows × 1 columns</p>\n",
              "</div>"
            ],
            "text/plain": [
              "    serial_number\n",
              "0              47\n",
              "1              42\n",
              "2              57\n",
              "3              79\n",
              "4              26\n",
              "..            ...\n",
              "12             67\n",
              "13            108\n",
              "14             84\n",
              "15             50\n",
              "16             78\n",
              "\n",
              "[17 rows x 1 columns]"
            ]
          },
          "execution_count": 65,
          "metadata": {},
          "output_type": "execute_result"
        }
      ],
      "source": [
        "observations = bpd.read_csv(\"https://raw.githubusercontent.com/dsc-courses/dsc10-2023-wi/main/labs/lab05/data/serial_numbers.csv\")\n",
        "num_observations = observations.shape[0]\n",
        "observations"
      ]
    },
    {
      "cell_type": "markdown",
      "metadata": {
        "id": "yXIX3jUVh5zt"
      },
      "source": [
        "**Pergunta 1.2.** Defina uma função chamada `plot_serial_numbers` que desenha um histograma de qualquer DataFrame de números de série.  Deve levar um argumento, um DataFrame `df` com uma única coluna chamada `'serial_number'` (como `observations`).  Ele deve traçar um histograma dos valores na coluna `'serial_number'` **usando bins de largura 1** variando de **1 a 200 (inclusivo)** mas não retornar nada.  Em seguida, chame essa função para fazer um histograma de `observations`."
      ]
    },
    {
      "cell_type": "code",
      "execution_count": 66,
      "metadata": {
        "id": "jW72U2cVh5zt"
      },
      "outputs": [
        {
          "data": {
            "image/png": "[encoded data removed]",
            "text/plain": [
              "<Figure size 1000x500 with 1 Axes>"
            ]
          },
          "metadata": {},
          "output_type": "display_data"
        }
      ],
      "source": [
        "def plot_serial_numbers(df):\n",
        "    df.plot(kind='hist', bins=np.arange(1, 200))\n",
        "\n",
        "# Chame sua função.\n",
        "plot_serial_numbers(observations)"
      ]
    },
    {
      "cell_type": "markdown",
      "metadata": {
        "id": "eQn8HRAhh5zt"
      },
      "source": [
        "***Verifique sua resposta***: Seu histograma deve ter barras com a mesma altura e o eixo x deve variar de 0 a 200."
      ]
    },
    {
      "cell_type": "markdown",
      "metadata": {
        "id": "up3rFnd5h5zt"
      },
      "source": [
        "**Pergunta 1.3.** Como estamos tentando estimar o máximo da população, `N`, uma estatística natural a ser usada é a amostra **max**. Em outras palavras, podemos estimar o número total de tanques como sendo o maior número de série da nossa amostra.\n",
        "\n",
        "Abaixo, escreva uma função chamada `calculate_max_based_estimate` que calcula essa estatística em uma determinada série de números de série. Deve tomar como argumento uma série de números de série e retornar seu máximo.\n",
        "\n",
        "Depois disso, use-o para calcular uma estimativa de `N` usando os números de série em `observações`. Chame a estimativa de `max_based_estimate`."
      ]
    },
    {
      "cell_type": "code",
      "execution_count": 67,
      "metadata": {
        "id": "haZyJLqlh5zt"
      },
      "outputs": [
        {
          "data": {
            "text/plain": [
              "np.int64(135)"
            ]
          },
          "execution_count": 67,
          "metadata": {},
          "output_type": "execute_result"
        }
      ],
      "source": [
        "def calculate_max_based_estimate(nums):\n",
        "    return nums.get(\"serial_number\").max()\n",
        "\n",
        "max_based_estimate = calculate_max_based_estimate(observations)\n",
        "max_based_estimate"
      ]
    },
    {
      "cell_type": "markdown",
      "metadata": {
        "id": "yB-5yVYWh5zu"
      },
      "source": [
        "**Pergunta 1.4.** Outra maneira de estimar `N` é tomar **duas vezes a média** dos números de série em nossa amostra. Abaixo, escreva uma função chamada `calculate_mean_based_estimate` que calcula essa estatística. Deve tomar como argumento uma série de números de série e retornar o dobro da média.\n",
        "\n",
        "Depois disso, use-o para calcular uma estimativa de `N` usando os números de série em `observações`. Chame a estimativa de `mean_based_estimate`."
      ]
    },
    {
      "cell_type": "code",
      "execution_count": 68,
      "metadata": {
        "id": "K41TDpfeh5zu"
      },
      "outputs": [
        {
          "data": {
            "text/plain": [
              "np.float64(122.47058823529412)"
            ]
          },
          "execution_count": 68,
          "metadata": {},
          "output_type": "execute_result"
        }
      ],
      "source": [
        "def calculate_mean_based_estimate(nums):\n",
        "    return nums.get(\"serial_number\").mean() * 2\n",
        "\n",
        "mean_based_estimate = calculate_mean_based_estimate(observations)\n",
        "mean_based_estimate"
      ]
    },
    {
      "cell_type": "markdown",
      "metadata": {
        "id": "wi0ddH-Nh5zu"
      },
      "source": [
        "**Pergunta 1.5.** Observe os valores de `max_based_estimate` e `mean_based_estimate` que obtivemos para nosso conjunto de dados:"
      ]
    },
    {
      "cell_type": "code",
      "execution_count": 69,
      "metadata": {
        "id": "ThnVQTrnh5zu"
      },
      "outputs": [
        {
          "data": {
            "text/plain": [
              "np.int64(135)"
            ]
          },
          "execution_count": 69,
          "metadata": {},
          "output_type": "execute_result"
        }
      ],
      "source": [
        "max_based_estimate"
      ]
    },
    {
      "cell_type": "code",
      "execution_count": 70,
      "metadata": {
        "id": "mamhf4MPh5zu"
      },
      "outputs": [
        {
          "data": {
            "text/plain": [
              "np.float64(122.47058823529412)"
            ]
          },
          "execution_count": 70,
          "metadata": {},
          "output_type": "execute_result"
        }
      ],
      "source": [
        "mean_based_estimate"
      ]
    },
    {
      "cell_type": "markdown",
      "metadata": {
        "id": "P9S0O7dlh5zu"
      },
      "source": [
        "O valor de `max_based_estimate` diz algo sobre `mean_based_estimate`.  Poderia nossa atual `mean_based_estimate` possivelmente ser igual a `N` (pelo menos se arredondarmos para o número inteiro mais próximo)?  Se não, é definitivamente mais alto, definitivamente mais baixo, ou não podemos dizer?  Atribua uma das opções (1-6) à variável `preliminaries_q5` abaixo.\n",
        "1. Sim, nossa `mean_based_estimate` para esta amostra pode ser igual a `N`.\n",
        "2. Não, nossa `mean_based_estimate` para esta amostra não pode ser igual a `N`, é definitivamente menor em aproximadamente 3.\n",
        "3. Não, nossa `mean_based_estimate` para esta amostra não pode ser igual a `N`, é definitivamente menor em pelo menos 12.\n",
        "4. Não, nossa `mean_based_estimate` para esta amostra não pode ser igual a `N`, é definitivamente maior em aproximadamente 3.\n",
        "5. Não, nossa `mean_based_estimate` para esta amostra não pode ser igual a `N`, é definitivamente maior em pelo menos 12.\n",
        "6. Não, nossa `mean_based_estimate` para esta amostra não pode ser igual a `N`, mas não podemos dizer se é menor ou maior."
      ]
    },
    {
      "cell_type": "code",
      "execution_count": 71,
      "metadata": {
        "id": "ES5tXMGxh5zu"
      },
      "outputs": [],
      "source": [
        "preliminaries_q5 = 3"
      ]
    },
    {
      "cell_type": "markdown",
      "metadata": {
        "id": "leGpKSB9h5zv"
      },
      "source": [
        "Não podemos simplesmente proclamar com segurança que `max_based_estimate` ou `mean_based_estimate` são iguais a `N`, porque não sabemos o que `N` realmente é.  E se estivermos muito longe? Queremos ter uma noção da precisão de nossas estimativas."
      ]
    },
    {
      "cell_type": "markdown",
      "metadata": {
        "id": "QWqKorRVh5zv"
      },
      "source": [
        "## 2. Reamostragem 🥾\n",
        "\n",
        "Se tivéssemos acesso a toda a população, poderíamos extrair repetidamente amostras da população e calcular a nossa estimativa utilizando cada amostra. Isto daria uma distribuição empírica de estimativas, que poderíamos usar para ver até que ponto as nossas estimativas tendem a ser erradas. Isso é o que fizemos na Aula 13.\n",
        "\n",
        "Infelizmente, **não** temos acesso a toda a população (ou seja, não sabemos o valor de `N`). Tudo o que temos acesso é uma única amostra de números de série. Como podemos saber o quão precisas são as nossas estimativas sem sermos capazes de fazer amostras repetidas da população para criar uma distribuição empírica? 🤔\n",
        "\n",
        "<br>\n",
        "\n",
        "Uma estratégia é coletar repetidamente amostras de nossa amostra, ou \"**reamostrar**\", e usar essas reamostras para calcular uma distribuição empírica de nossa estimativa. Vamos falar sobre por que esta é uma estratégia razoável.\n",
        "- Quando tentamos determinar `N`, o número de tanques, gostaríamos de usar toda a população.  Como tínhamos apenas uma amostra, usamos isso para estimar `N`.\n",
        "- Da mesma forma, agora gostaríamos de usar a população de números de série para **executar uma simulação** para nos ajudar a entender como diferentes estimativas de `N` poderiam ter resultado. Mas ainda temos apenas nossa **amostra**, então podemos usá-la? **Podemos!**\n",
        "- Como grandes amostras aleatórias se assemelham às populações das quais foram extraídas e nossa amostra é relativamente grande, podemos tratar nossa amostra como se fosse a população e tirar amostras dela.\n",
        "\n",
        "Quando reamostramos a partir de nossa amostra original, amostramos **de maneira uniforme e aleatória com substituição** e criamos uma reamostragem **que tem o mesmo número de elementos que a amostra original**. (Na Questão 4, veremos por que devemos fazer uma nova amostragem com substituição.)\n",
        "\n",
        "Aqui está uma analogia entre estimar `N` e simular a variabilidade de nossas estimativas:\n",
        "\n",
        "$$\\text{computar }N\\text{ da população}$$\n",
        "$$\\text{está para}$$\n",
        "$$\\text{computar uma estimativa de }N\\text{ a partir de uma amostra}$$\n",
        "\n",
        "$$\\text{assim como}$$\n",
        "\n",
        "$$\\text{simular a distribuição de estimativas de }N\\text{ usando amostras da população}$$\n",
        "$$\\text{está para}$$\n",
        "$$\\text{simular uma distribuição (aproximada) de estimativas de }N\\text{ usando reamostras de uma amostra}$$\n",
        "\n",
        "O processo de reamostragem de nossa amostra original é conhecido como **reamostragem bootstrap**. Execute a célula abaixo para percorrer uma animação que ilustra como funciona o bootstrapping."
      ]
    },
    {
      "cell_type": "code",
      "execution_count": 72,
      "metadata": {
        "id": "cijVPrZih5zv",
        "scrolled": true
      },
      "outputs": [
        {
          "data": {
            "text/html": [
              "\n",
              "        <iframe\n",
              "            width=\"600\"\n",
              "            height=\"320\"\n",
              "            src=\"https://docs.google.com/presentation/d/e/2PACX-1vS_iYHJYXSVMMZ-YQVFwMEFR6EFN3FDSAvaMyUm-YJfLQgRMTHm3vI-wWJJ5999eFJq70nWp2hyItZg/embed?start=false&loop=false&delayms=3000\"\n",
              "            frameborder=\"0\"\n",
              "            allowfullscreen\n",
              "            \n",
              "        ></iframe>\n",
              "        "
            ],
            "text/plain": [
              "<IPython.lib.display.IFrame at 0x246c57a9c50>"
            ]
          },
          "metadata": {},
          "output_type": "display_data"
        }
      ],
      "source": [
        "show_bootstrapping_slides()"
      ]
    },
    {
      "cell_type": "markdown",
      "metadata": {
        "id": "QBWwUg0Fh5zv"
      },
      "source": [
        "**Bootstrapping é uma ideia realmente complicada, então peça ajuda se estiver confuso!**"
      ]
    },
    {
      "cell_type": "markdown",
      "metadata": {
        "id": "phnF63G_h5zv"
      },
      "source": [
        "**Questão 2.1.** Escreva uma função chamada `simulate_resample`.  Não deve receber argumentos e deve gerar uma nova amostra (novamente, **com substituição**) a partir dos números de série observados em `observations` e retornar essa nova amostra.  (A reamostragem deve ser um DataFrame como `observations`.)\n",
        "\n",
        "_Dica:_ Use o método `.sample`."
      ]
    },
    {
      "cell_type": "code",
      "execution_count": 73,
      "metadata": {
        "id": "QIgo1d0ih5zv"
      },
      "outputs": [
        {
          "data": {
            "text/html": [
              "<div>\n",
              "<style scoped>\n",
              "    .dataframe tbody tr th:only-of-type {\n",
              "        vertical-align: middle;\n",
              "    }\n",
              "\n",
              "    .dataframe tbody tr th {\n",
              "        vertical-align: top;\n",
              "    }\n",
              "\n",
              "    .dataframe thead th {\n",
              "        text-align: right;\n",
              "    }\n",
              "</style>\n",
              "<table border=\"1\" class=\"dataframe\">\n",
              "  <thead>\n",
              "    <tr style=\"text-align: right;\">\n",
              "      <th></th>\n",
              "      <th>serial_number</th>\n",
              "    </tr>\n",
              "  </thead>\n",
              "  <tbody>\n",
              "    <tr>\n",
              "      <th>13</th>\n",
              "      <td>108</td>\n",
              "    </tr>\n",
              "    <tr>\n",
              "      <th>2</th>\n",
              "      <td>57</td>\n",
              "    </tr>\n",
              "    <tr>\n",
              "      <th>2</th>\n",
              "      <td>57</td>\n",
              "    </tr>\n",
              "    <tr>\n",
              "      <th>6</th>\n",
              "      <td>36</td>\n",
              "    </tr>\n",
              "    <tr>\n",
              "      <th>10</th>\n",
              "      <td>41</td>\n",
              "    </tr>\n",
              "    <tr>\n",
              "      <th>...</th>\n",
              "      <td>...</td>\n",
              "    </tr>\n",
              "    <tr>\n",
              "      <th>15</th>\n",
              "      <td>50</td>\n",
              "    </tr>\n",
              "    <tr>\n",
              "      <th>14</th>\n",
              "      <td>84</td>\n",
              "    </tr>\n",
              "    <tr>\n",
              "      <th>4</th>\n",
              "      <td>26</td>\n",
              "    </tr>\n",
              "    <tr>\n",
              "      <th>0</th>\n",
              "      <td>47</td>\n",
              "    </tr>\n",
              "    <tr>\n",
              "      <th>16</th>\n",
              "      <td>78</td>\n",
              "    </tr>\n",
              "  </tbody>\n",
              "</table>\n",
              "<p>17 rows × 1 columns</p>\n",
              "</div>"
            ],
            "text/plain": [
              "    serial_number\n",
              "13            108\n",
              "2              57\n",
              "2              57\n",
              "6              36\n",
              "10             41\n",
              "..            ...\n",
              "15             50\n",
              "14             84\n",
              "4              26\n",
              "0              47\n",
              "16             78\n",
              "\n",
              "[17 rows x 1 columns]"
            ]
          },
          "execution_count": 73,
          "metadata": {},
          "output_type": "execute_result"
        }
      ],
      "source": [
        "def simulate_resample():\n",
        "    return observations.sample(replace=True, n=observations.shape[0])\n",
        "\n",
        "# Esse é um pequeno truque para garantir a reproducibilidade dos resultados,\n",
        "# isto é, garantir que, embora usemos funções aleatórias (.sample), nós obtenhamos o mesmo resultado.\n",
        "np.random.seed(123)\n",
        "\n",
        "one_resample = simulate_resample()\n",
        "one_resample"
      ]
    },
    {
      "cell_type": "markdown",
      "metadata": {
        "id": "9VsLbFM-h5zv"
      },
      "source": [
        "Posteriormente, usaremos muitas reamostras de uma vez para ver como normalmente são as estimativas.  Muitas vezes não prestamos atenção a reamostras únicas, por isso é fácil entendê-las mal.  Vamos examinar algumas reamostras individuais antes de começarmos a usá-las."
      ]
    },
    {
      "cell_type": "markdown",
      "metadata": {
        "id": "6Nwq8vIGh5zv"
      },
      "source": [
        "**Pergunta 2.2.** Faça um histograma de sua `one_resample` **e** um histograma separado das observações originais. Certifique-se de usar a função `plot_serial_numbers` que você definiu anteriormente no laboratório."
      ]
    },
    {
      "cell_type": "code",
      "execution_count": 74,
      "metadata": {
        "id": "YMMmSOplh5zw"
      },
      "outputs": [
        {
          "data": {
            "image/png": "[encoded data removed]",
            "text/plain": [
              "<Figure size 1000x500 with 1 Axes>"
            ]
          },
          "metadata": {},
          "output_type": "display_data"
        }
      ],
      "source": [
        "# Histograma da reamostragem.\n",
        "plot_serial_numbers(one_resample)"
      ]
    },
    {
      "cell_type": "code",
      "execution_count": 75,
      "metadata": {
        "id": "Ycsg6BUlh5zw"
      },
      "outputs": [
        {
          "data": {
            "image/png": "[encoded data removed]",
            "text/plain": [
              "<Figure size 1000x500 with 1 Axes>"
            ]
          },
          "metadata": {},
          "output_type": "display_data"
        }
      ],
      "source": [
        "# Histogram das observações originais.\n",
        "plot_serial_numbers(observations)"
      ]
    },
    {
      "cell_type": "markdown",
      "metadata": {
        "id": "l8Pc_XoVh5zw"
      },
      "source": [
        "**Pergunta 2.3.** Quais das seguintes afirmações são verdadeiras:\n",
        "1. No gráfico da reamostragem, não há barras em locais que não existiam no gráfico das observações originais.\n",
        "2. No gráfico das observações originais, não há barras em locais que não existiam no gráfico da reamostragem.\n",
        "3. Não há números de série duplicados na reamostra.\n",
        "4. Não há números de série duplicados nas observações originais.\n",
        "\n",
        "Atribua `true_statements` a uma lista de declarações corretas"
      ]
    },
    {
      "cell_type": "code",
      "execution_count": 76,
      "metadata": {
        "id": "pt7RnKs0h5zw"
      },
      "outputs": [],
      "source": [
        "true_statements = [True, False, False, True]"
      ]
    },
    {
      "cell_type": "markdown",
      "metadata": {
        "id": "AjxLiF9Kh5zw"
      },
      "source": [
        "**Pergunta 2.4.** Crie mais 2 reamostras. Para cada reamostra, trace um histograma e calcule as estimativas baseadas no máximo e na média usando essa reamostra."
      ]
    },
    {
      "cell_type": "code",
      "execution_count": 77,
      "metadata": {
        "id": "_8GluVl-h5zw"
      },
      "outputs": [
        {
          "name": "stdout",
          "output_type": "stream",
          "text": [
            "Estimativa baseada na média da reamostragem 1: 128.8235294117647\n",
            "Estimativa baseada no máximo do reamostragem 1: 135\n",
            "\n",
            "\n",
            "Estimativa baseada na média da reamostragem 2: 106.82352941176471\n",
            "Estimativa baseada no máximo do reamostragem 2: 108\n",
            "\n",
            "\n"
          ]
        },
        {
          "data": {
            "image/png": "[encoded data removed]",
            "text/plain": [
              "<Figure size 1000x500 with 1 Axes>"
            ]
          },
          "metadata": {},
          "output_type": "display_data"
        },
        {
          "data": {
            "image/png": "[encoded data removed]",
            "text/plain": [
              "<Figure size 1000x500 with 1 Axes>"
            ]
          },
          "metadata": {},
          "output_type": "display_data"
        }
      ],
      "source": [
        "# np.arange(2) pois queremos dois resample. Também poderíamos usar range(2)\n",
        "for i in np.arange(2):\n",
        "    resample = observations.sample(replace=True, n=observations.shape[0])\n",
        "\n",
        "    # Plote o histograma dessa reamostragem.\n",
        "    plot_serial_numbers(resample)\n",
        "\n",
        "    # Calcule as estimativas baseadas na média e no máximo da reamostragem.\n",
        "    mean_based_estimate_resample = calculate_mean_based_estimate(resample)\n",
        "    max_based_estimate_resample = calculate_max_based_estimate(resample)\n",
        "\n",
        "    # Don't change the following 3 lines:\n",
        "    print(f\"Estimativa baseada na média da reamostragem {i+1}:\", mean_based_estimate_resample)\n",
        "    print(f\"Estimativa baseada no máximo do reamostragem {i+1}:\", max_based_estimate_resample)\n",
        "    print('\\n')"
      ]
    },
    {
      "cell_type": "markdown",
      "metadata": {
        "id": "D30OlaYuh5zw"
      },
      "source": [
        "Há uma boa chance de você descobrir que as estimativas baseadas no máximo das reamostras são exatamente 135 (execute a célula algumas vezes e você quase certamente verá isso acontecer). Você provavelmente também descobrirá que as duas estimativas baseadas na média diferem da estimativa baseada na média da amostra (e uma da outra).\n",
        "\n",
        "**Pergunta 2.5.** Calcule a probabilidade exata de que uma estimativa baseada no máximo de uma *reamostra* de nossa amostra de observações seja 135 e atribua-a à variável `resampling_q5` abaixo. Pode ser útil lembrar que o tamanho das “observações” é 17.\n",
        "\n",
        "Observe que esta é uma questão de **matemática**, não de programação. Pode ser útil descobrir sua resposta no papel e então atribuir `resampling_q5` a uma expressão que avalie a resposta correta.\n",
        "\n",
        "_Dica:_  Pense no exemplo da \"vovó\" da Aula 11. Qual é a probabilidade de qualquer um dos elementos em nossa reamostra ser igual a 135?"
      ]
    },
    {
      "cell_type": "code",
      "execution_count": 78,
      "metadata": {
        "id": "5t07mWfDh5zx"
      },
      "outputs": [
        {
          "data": {
            "text/plain": [
              "Ellipsis"
            ]
          },
          "execution_count": 78,
          "metadata": {},
          "output_type": "execute_result"
        }
      ],
      "source": [
        "resampling_q5 = ...\n",
        "resampling_q5"
      ]
    },
    {
      "cell_type": "markdown",
      "metadata": {
        "id": "tZ_Iy6WTh5zx"
      },
      "source": [
        "A resposta correta é alta, acima de 60%. Pense por que é menos provável que uma estimativa baseada na média de uma reamostra seja exatamente igual à estimativa baseada na média da amostra original em comparação com uma estimativa baseada no máximo."
      ]
    },
    {
      "cell_type": "markdown",
      "metadata": {
        "id": "kiwVxdYsh5zx"
      },
      "source": [
        "## 3. Reamostragem via Simulação 💻\n",
        "\n",
        "Como a reamostragem de uma grande amostra aleatória se parece com a amostragem de uma população, o código também deve ser quase o mesmo. Isso significa que podemos escrever uma função que simule a amostragem de uma população ou a reamostragem de uma amostra.  Se lhe passarmos uma população como argumento, ele fará o primeiro; se passarmos uma amostra, ele fará o último.\n",
        "\n",
        "**Questão 3.1.** Escreva uma função chamada `simulate_estimates`. Deve levar 4 argumentos:\n",
        "- `original_df`: Um DataFrame do qual os dados devem ser amostrados, com 1 coluna chamada `'serial_number'`.\n",
        "- `sample_size`: O tamanho de cada amostra, um número inteiro. (Por exemplo, para fazer a reamostragem, passaríamos o número de linhas em `original_df` para este argumento.)\n",
        "- `statistic`: Uma **função** que calcula uma estatística em uma amostra. Este argumento é o **nome de uma função** que recebe uma série de números de série como argumento e retorna um número (por exemplo, `calculate_mean_based_estimate`).\n",
        "- `repetitions`: O número de repetições a realizar (ou seja, o número de reamostras a criar).\n",
        "\n",
        "Deve-se simular `repetitions` amostras **com substituição** do DataFrame fornecido. Para cada uma dessas amostras, deve-se calcular a estatística dessa amostra. Ento, deve-se retornar um array contendo o valor daquela estatística para cada amostra (isso significa que o comprimento do array retornado deve ser igual a `repetitions`).\n",
        "\n",
        "O código abaixo fornece um exemplo de uso da sua função e descreve como você pode verificar se a escreveu corretamente."
      ]
    },
    {
      "cell_type": "markdown",
      "metadata": {
        "id": "iMLJlDUkh5zx"
      },
      "source": [
        "***Verifique sua resposta***: O histograma que você vê deve ser uma curva em forma de sino centrada em 1000 com a maior parte de sua massa em [800, 1200]."
      ]
    },
    {
      "cell_type": "code",
      "execution_count": 79,
      "metadata": {
        "id": "ghMfDFXoh5zx"
      },
      "outputs": [
        {
          "data": {
            "image/png": "[encoded data removed]",
            "text/plain": [
              "<Figure size 1000x500 with 1 Axes>"
            ]
          },
          "metadata": {},
          "output_type": "display_data"
        }
      ],
      "source": [
        "def simulate_estimates(original_df, sample_size, statistic, repetitions):\n",
        "    stats = np.array([])\n",
        "\n",
        "    for i in range(repetitions):\n",
        "        resample = original_df.sample(n=sample_size, replace=True)\n",
        "        stats = np.append(stats, statistic(resample))\n",
        "\n",
        "    return stats\n",
        "\n",
        "# Isso deve gerar um histograma empírico com estimativas de duas vezes a média\n",
        "# de N exemplos de tamanho 50 se N for 1000. .\n",
        "# Observe que o argumento da estatística é calculado usando calculate_mean_based_estimate.\n",
        "example_estimates = simulate_estimates(\n",
        "    bpd.DataFrame().assign(serial_number=np.arange(1, 1000+1)),\n",
        "    50,\n",
        "    calculate_mean_based_estimate,\n",
        "    10000)\n",
        "bpd.DataFrame().assign(mean_based_estimate = example_estimates).plot(kind = 'hist', density=True, bins=np.arange(500, 1500, 25), ec='w');"
      ]
    },
    {
      "cell_type": "markdown",
      "metadata": {
        "id": "V4pbVZ_wh5zy"
      },
      "source": [
        "Agora podemos voltar à amostra que realmente observamos (`observations`) e estimar o quanto nossa estimativa de `N` baseada na média teria variado de amostra para amostra."
      ]
    },
    {
      "cell_type": "markdown",
      "metadata": {
        "id": "jHy2OXUgh5zy"
      },
      "source": [
        "**Questão 3.2.** Usando o procedimento bootstrap e as `observações` de amostra, simule a distribuição aproximada de **estimativas baseadas em médias** de `N`. Use 5.000 repetições. Armazene as estimativas em `bootstrap_estimates`. (Observe que isso requer apenas uma linha de código; chame sua função `simulate_estimates`.)\n",
        "\n",
        "Fornecemos um código que traça um histograma, permitindo visualizar as estimativas simuladas."
      ]
    },
    {
      "cell_type": "code",
      "execution_count": 80,
      "metadata": {
        "id": "jnoj3U57h5zy"
      },
      "outputs": [
        {
          "data": {
            "image/png": "[encoded data removed]",
            "text/plain": [
              "<Figure size 1000x500 with 1 Axes>"
            ]
          },
          "metadata": {},
          "output_type": "display_data"
        }
      ],
      "source": [
        "bootstrap_estimates = simulate_estimates(observations, observations.shape[0], calculate_mean_based_estimate, 5000)\n",
        "bpd.DataFrame().assign(mean_based_estimate = bootstrap_estimates).plot(kind = 'hist', density=True, bins=np.arange(0, 200, 4), ec='w');"
      ]
    },
    {
      "cell_type": "markdown",
      "metadata": {
        "id": "5G2EDDUuh5zy"
      },
      "source": [
        "**Pergunta 3.3.** Calcule um intervalo que cubra os 95% intermediários das estimativas de bootstrap.  Verifique se o seu intervalo parece cobrir 95% da área no histograma acima.\n",
        "\n",
        "\n",
        "_Dicas:_\n",
        "- Use [`np.percentile`](https://numpy.org/doc/stable/reference/generated/numpy.percentile.html) aqui.\n",
        "- Se você estiver usando 5 e 95 como argumentos para `np.percentile`, tente novamente – apenas 90% dos dados estão entre os percentis 5 e 95!"
      ]
    },
    {
      "cell_type": "code",
      "execution_count": 81,
      "metadata": {
        "id": "1BxKSLIKh5zy"
      },
      "outputs": [
        {
          "name": "stdout",
          "output_type": "stream",
          "text": [
            "Meio 95% das estimativas do bootstrap: [94.941176, 152.005882]\n"
          ]
        }
      ],
      "source": [
        "left_end = np.percentile(bootstrap_estimates, 2.5)\n",
        "right_end = np.percentile(bootstrap_estimates, 97.5)\n",
        "print(\"Meio 95% das estimativas do bootstrap: [{:f}, {:f}]\".format(left_end, right_end))"
      ]
    },
    {
      "cell_type": "markdown",
      "metadata": {
        "id": "Z5OKISXxh5zz"
      },
      "source": [
        "**Pergunta 3.4.** Digamos que `N`, o parâmetro populacional que estamos tentando estimar, seja na verdade 150. Escreva o código que simula o processo de amostragem e inicialização novamente, como segue:\n",
        "\n",
        "1. Gere um novo conjunto de observações aleatórias que os Aliados possam ter visto por meio de amostragem do DataFrame populacional que criamos para você abaixo. Pegue uma amostra de tamanho 70 **sem reposição**. Armazene a amostra no nome da variável `new_observations`\n",
        "2. Usando apenas `new_observations` – não `population` – calcule 5.000 estimativas bootstrap de `N` baseadas em média. Para fazer isso, chame sua função `simulate_estimates`.\n",
        "3. Calcule um intervalo que cubra os 95% intermediários dessas estimativas baseadas na média."
      ]
    },
    {
      "cell_type": "code",
      "execution_count": 82,
      "metadata": {
        "id": "zK7iO5wEh5zz"
      },
      "outputs": [
        {
          "name": "stdout",
          "output_type": "stream",
          "text": [
            "Meio 95% das estimativas do bootstrap: [139.257143, 179.773571]\n"
          ]
        }
      ],
      "source": [
        "population = bpd.DataFrame().assign(serial_number = np.arange(1, 150+1))\n",
        "new_observations = population.sample(n=70,replace=False)\n",
        "new_bootstrap_estimates = simulate_estimates(new_observations, 70, calculate_mean_based_estimate, 5000)\n",
        "\n",
        "new_left_end = np.percentile(new_bootstrap_estimates, 2.5)\n",
        "new_right_end = np.percentile(new_bootstrap_estimates, 97.5)\n",
        "\n",
        "print(\"Meio 95% das estimativas do bootstrap: [{:f}, {:f}]\".format(new_left_end, new_right_end))"
      ]
    },
    {
      "cell_type": "markdown",
      "metadata": {
        "id": "ftaNTH3Mh5zz"
      },
      "source": [
        "**Pergunta 3.5.** Se você executasse sua célula acima muitas e muitas vezes, aproximadamente qual porcentagem dos intervalos criados incluiria `N` (150 neste caso)?  Atribua 1, 2, 3, 4 ou 5 à variável `simulating_q5` abaixo.\n",
        "\n",
        "1. 100%\n",
        "2. 97.5%\n",
        "3. 95%\n",
        "4. 5%\n",
        "5. É impossível dizer."
      ]
    },
    {
      "cell_type": "code",
      "execution_count": 83,
      "metadata": {
        "id": "jJ6m_PG3h5zz"
      },
      "outputs": [],
      "source": [
        "simulating_q5 = 3"
      ]
    },
    {
      "cell_type": "markdown",
      "metadata": {
        "id": "Od_8utXih5zz"
      },
      "source": [
        "## 4. Com ou sem reposição? 🔂\n",
        "\n",
        "Cada vez que reamostramos nossa amostra original, amostramos **com reposição**. O que aconteceria se tentássemos reamostrar sem substituição? Vamos descobrir!\n",
        "\n",
        "Abaixo, coletaremos outra amostra aleatória de tamanho 70 da `população` da qual poderemos reamostrar. Chamaremos isso de `original_sample`."
      ]
    },
    {
      "cell_type": "code",
      "execution_count": 84,
      "metadata": {
        "id": "YF4cXfUYh5zz"
      },
      "outputs": [
        {
          "data": {
            "text/html": [
              "<div>\n",
              "<style scoped>\n",
              "    .dataframe tbody tr th:only-of-type {\n",
              "        vertical-align: middle;\n",
              "    }\n",
              "\n",
              "    .dataframe tbody tr th {\n",
              "        vertical-align: top;\n",
              "    }\n",
              "\n",
              "    .dataframe thead th {\n",
              "        text-align: right;\n",
              "    }\n",
              "</style>\n",
              "<table border=\"1\" class=\"dataframe\">\n",
              "  <thead>\n",
              "    <tr style=\"text-align: right;\">\n",
              "      <th></th>\n",
              "      <th>serial_number</th>\n",
              "    </tr>\n",
              "  </thead>\n",
              "  <tbody>\n",
              "    <tr>\n",
              "      <th>139</th>\n",
              "      <td>140</td>\n",
              "    </tr>\n",
              "    <tr>\n",
              "      <th>125</th>\n",
              "      <td>126</td>\n",
              "    </tr>\n",
              "    <tr>\n",
              "      <th>67</th>\n",
              "      <td>68</td>\n",
              "    </tr>\n",
              "    <tr>\n",
              "      <th>3</th>\n",
              "      <td>4</td>\n",
              "    </tr>\n",
              "    <tr>\n",
              "      <th>113</th>\n",
              "      <td>114</td>\n",
              "    </tr>\n",
              "    <tr>\n",
              "      <th>...</th>\n",
              "      <td>...</td>\n",
              "    </tr>\n",
              "    <tr>\n",
              "      <th>53</th>\n",
              "      <td>54</td>\n",
              "    </tr>\n",
              "    <tr>\n",
              "      <th>76</th>\n",
              "      <td>77</td>\n",
              "    </tr>\n",
              "    <tr>\n",
              "      <th>132</th>\n",
              "      <td>133</td>\n",
              "    </tr>\n",
              "    <tr>\n",
              "      <th>114</th>\n",
              "      <td>115</td>\n",
              "    </tr>\n",
              "    <tr>\n",
              "      <th>72</th>\n",
              "      <td>73</td>\n",
              "    </tr>\n",
              "  </tbody>\n",
              "</table>\n",
              "<p>70 rows × 1 columns</p>\n",
              "</div>"
            ],
            "text/plain": [
              "     serial_number\n",
              "139            140\n",
              "125            126\n",
              "67              68\n",
              "3                4\n",
              "113            114\n",
              "..             ...\n",
              "53              54\n",
              "76              77\n",
              "132            133\n",
              "114            115\n",
              "72              73\n",
              "\n",
              "[70 rows x 1 columns]"
            ]
          },
          "execution_count": 84,
          "metadata": {},
          "output_type": "execute_result"
        }
      ],
      "source": [
        "np.random.seed(23) #Para garantir que obtenhamos o mesmo resultado.\n",
        "original_sample = population.sample(70)\n",
        "original_sample"
      ]
    },
    {
      "cell_type": "markdown",
      "metadata": {
        "id": "RGH3uSr_h5z0"
      },
      "source": [
        "**Pergunta 4.1.** Abaixo, 5.000 vezes, colete uma nova amostra de tamanho 70 **de `original_sample` sem reposição**. Calcule a estimativa baseada na média em cada reamostra e armazene as estimativas na matriz `estimates_without_replacement`.\n",
        "\n",
        "Nota: Você **não** pode usar sua função `simulate_estimates` aqui, porque ela faz amostras com substituição. Em vez disso, você terá que escrever um novo loop for. É uma boa ideia começar copiando o código da sua função no 3.1 e alterando as peças necessárias."
      ]
    },
    {
      "cell_type": "code",
      "execution_count": 85,
      "metadata": {
        "id": "8TAfiL2zh5z0"
      },
      "outputs": [
        {
          "data": {
            "text/plain": [
              "array([149.51428571, 149.51428571, 149.51428571, ..., 149.51428571,\n",
              "       149.51428571, 149.51428571])"
            ]
          },
          "execution_count": 85,
          "metadata": {},
          "output_type": "execute_result"
        }
      ],
      "source": [
        "stats = np.array([])\n",
        "\n",
        "for i in range(5000):\n",
        "    resample = original_sample.sample(n=70, replace=False)\n",
        "    stats = np.append(stats, calculate_mean_based_estimate(resample))\n",
        "    \n",
        "estimates_without_replacement = stats\n",
        "estimates_without_replacement"
      ]
    },
    {
      "cell_type": "markdown",
      "metadata": {
        "id": "URe-7kz2h5z0"
      },
      "source": [
        "**Pergunta 4.2.** Se você completou 4.1 corretamente, notará que todas as 5.000 estimativas são idênticas e equivalem a aproximadamente 149,5143. Além disso, este número é igual à estimativa baseada na média derivada de `amostra_original`, sem qualquer reamostragem:"
      ]
    },
    {
      "cell_type": "code",
      "execution_count": 86,
      "metadata": {
        "id": "g6eBUeMRh5z0"
      },
      "outputs": [
        {
          "data": {
            "text/plain": [
              "np.float64(149.5142857142857)"
            ]
          },
          "execution_count": 86,
          "metadata": {},
          "output_type": "execute_result"
        }
      ],
      "source": [
        "calculate_mean_based_estimate(original_sample)"
      ]
    },
    {
      "cell_type": "markdown",
      "metadata": {
        "id": "tsr5-YsLh5z0"
      },
      "source": [
        "Por que todas as nossas estimativas são idênticas e por que **devemos** amostrar com reposição durante a reamostragem?"
      ]
    },
    {
      "cell_type": "markdown",
      "metadata": {
        "deletable": false,
        "editable": false,
        "id": "2F7YnwGJh5z1"
      },
      "source": [
        "<!-- COMEÇAR PERGUNTA -->\n",
        "\n",
        "<!--\n",
        "COMEÇAR PERGUNTA\n",
        "nome: q4_2\n",
        "manual: verdadeiro\n",
        "-->"
      ]
    },
    {
      "cell_type": "markdown",
      "metadata": {
        "id": "NBjO89eyh5z1"
      },
      "source": [
        "Quando se reamostra sem reposição com tamanho amostral igual ao tamanho populacional, sempre se consegue o mesmo conjunto de valores que a população. Assim, a estimativa vai sempre ser a mesma, pois ela só depende dos valores obtidos."
      ]
    },
    {
      "cell_type": "markdown",
      "metadata": {
        "id": "oqPWed6lh5z1"
      },
      "source": [
        "<!-- FIM DA PERGUNTA -->\n",
        "\n",
        "\n",
        "\n",
        "## Linha de chegada 🏁\n",
        "\n",
        "Parabéns! Você concluiu o Laboratório 5.\n",
        "\n",
        "Para enviar sua tarefa:\n",
        "\n",
        "1. Selecione `Kernel -> Reiniciar e executar tudo` para garantir que você executou todas as células, incluindo as células de teste.\n",
        "2. Leia o caderno para ter certeza de que está tudo bem e que todos os testes foram aprovados.\n",
        "3. Baixe seu notebook usando `Arquivo -> Baixar como -> Notebook (.ipynb)` e, em seguida, carregue seu notebook para o Moodle.\n"
      ]
    }
  ],
  "metadata": {
    "colab": {
      "provenance": []
    },
    "kernelspec": {
      "display_name": "Python 3 (ipykernel)",
      "language": "python",
      "name": "python3"
    },
    "language_info": {
      "codemirror_mode": {
        "name": "ipython",
        "version": 3
      },
      "file_extension": ".py",
      "mimetype": "text/x-python",
      "name": "python",
      "nbconvert_exporter": "python",
      "pygments_lexer": "ipython3",
      "version": "3.11.3"
    }
  },
  "nbformat": 4,
  "nbformat_minor": 0
}
