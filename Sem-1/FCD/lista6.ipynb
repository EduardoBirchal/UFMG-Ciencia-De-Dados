{
  "cells": [
    {
      "cell_type": "markdown",
      "metadata": {
        "id": "otJ9WOnTAc0v"
      },
      "source": [
        "# Laboratório 6: Teste de hipóteses\n",
        "\n",
        "\n",
        "Bem-vindo ao Laboratório 6! Nesta tarefa, desenvolveremos uma compreensão mais aprofundada dos testes de hipóteses, sobre os quais você pode aprender mais em [CIT 11](https://inferentialthinking.com/chapters/11/Testing_Hypotheses.html). As palestras relevantes são as Aulas 19, 20 e 21.\n",
        "\n",
        "Você deve concluir todo este laboratório e enviá-lo ao Moodle até às 23h59 da data de vencimento."
      ]
    },
    {
      "cell_type": "code",
      "execution_count": 40,
      "metadata": {
        "id": "Hf2J_QEzAj0G"
      },
      "outputs": [
        {
          "name": "stderr",
          "output_type": "stream",
          "text": [
            "\n",
            "[notice] A new release of pip available: 22.3.1 -> 24.2\n",
            "[notice] To update, run: python.exe -m pip install --upgrade pip\n"
          ]
        }
      ],
      "source": [
        "# Descomente para executar no Colab\n",
        "! pip install babypandas --quiet"
      ]
    },
    {
      "cell_type": "code",
      "execution_count": 41,
      "metadata": {
        "id": "UYsjyVaPAc0x"
      },
      "outputs": [],
      "source": [
        "import numpy as np\n",
        "import babypandas as bpd\n",
        "import math\n",
        "\n",
        "import matplotlib.pyplot as plt\n",
        "plt.style.use('ggplot')\n",
        "plt.rcParams['figure.figsize'] = (10, 5)"
      ]
    },
    {
      "cell_type": "markdown",
      "metadata": {
        "id": "Bj2KlsJpAc0x"
      },
      "source": [
        "## 1. Toque Terapêutico 👆"
      ]
    },
    {
      "cell_type": "markdown",
      "metadata": {
        "id": "Azq6v4vPAc0x"
      },
      "source": [
        "O Toque Terapêutico (TT) é uma terapia energética que os profissionais afirmam poder promover saúde e relaxamento. Os profissionais colocam as mãos perto do paciente e dizem que são capazes de detectar e manipular o chamado Campo de Energia Humana (HEF) do paciente.\n",
        "O TT foi popular ao longo do século 20 e foi apontado como uma ótima maneira de trazer equilíbrio à saúde de uma pessoa. Você pode [ler mais sobre o TT aqui.](https://www.mountsinai.org/health-library/treatment/therapeutic-touch).\n",
        "\n",
        "### Experiência de Emily Rosa\n",
        "\n",
        "Em 1996, Emily Rosa tinha 9 anos e teve ampla exposição ao mundo do TT devido aos seus pais, que eram médicos e céticos em relação à ideia do TT. Para seu projeto de feira de ciências da 4ª série, Emily decidiu testar se os profissionais de TT poderiam realmente interagir com o HEF de uma pessoa.\n",
        "\n",
        "A experiência de Emily foi limpa, simples e eficaz. Devido às ocupações de seus pais na área médica, ela teve fácil acesso aos praticantes de TT. Com cada praticante, ela realizou o seguinte experimento várias vezes durante vários dias.\n",
        "\n",
        "1. Primeiro, ela se separava do praticante com uma espécie de tábua, para que eles não pudessem se ver.\n",
        "2. Em seguida, ela pedia que colocassem ambas as mãos em uma abertura no tabuleiro.\n",
        "3. Emily jogaria uma moeda honesta para determinar aleatoriamente se deveria colocar as mãos perto da mão esquerda ou direita do praticante.\n",
        "4. Finalmente, Emily pediria ao praticante de TT que especificasse se conseguiria detectar o Campo de Energia Humana (HEF) de Emily perto da mão esquerda ou da mão direita.\n",
        "\n",
        "No geral, Emily realizou 280 experimentos e o praticante escolheu a mão correta 123 vezes.\n",
        "\n",
        "O principal objetivo de Emily aqui era testar se as suposições dos praticantes de TT eram ou não aleatórias, como o lançamento de uma moeda. Na maioria dos experimentos médicos, esta é a norma. Queremos testar se algum tratamento tem ou não efeito. Isto *não* é o mesmo que testar se o tratamento realmente funciona como pretendido.\n",
        "\n",
        "Começaremos agora a formular o experimento de Emily em termos da terminologia de hipóteses que aprendemos recentemente."
      ]
    },
    {
      "cell_type": "markdown",
      "metadata": {
        "deletable": false,
        "editable": false,
        "id": "FqQIMNGmAc0y"
      },
      "source": [
        "<!-- COMEÇAR PERGUNTA -->\n",
        "\n",
        "**Pergunta 1.1.** Quais são as hipóteses nula e alternativa para o experimento de Emily? Escreva ambas as suas respostas na célula abaixo.\n",
        "\n",
        "<!--\n",
        "COMEÇAR PERGUNTA\n",
        "nome: q1_1\n",
        "manual: verdadeiro\n",
        "-->"
      ]
    },
    {
      "cell_type": "markdown",
      "metadata": {
        "id": "OrBnRY2QAc0y"
      },
      "source": [
        "_Digite sua resposta aqui, substituindo este texto._"
      ]
    },
    {
      "cell_type": "markdown",
      "metadata": {
        "id": "3oLXbMPEAc0y"
      },
      "source": [
        "<!-- FIM DA PERGUNTA -->\n",
        "\n",
        "\n",
        "\n",
        "**Pergunta 1.2.** Lembre-se de que em 280 experimentos, o praticante adivinhou a mão correta 123 vezes. De acordo com a hipótese nula, em média, que proporção de vezes esperamos que o praticante adivinhe a mão correta? Certifique-se de que sua resposta esteja entre 0 e 1."
      ]
    },
    {
      "cell_type": "code",
      "execution_count": 42,
      "metadata": {
        "id": "A_Hg4agnAc0z"
      },
      "outputs": [
        {
          "data": {
            "text/plain": [
              "0.5"
            ]
          },
          "execution_count": 42,
          "metadata": {},
          "output_type": "execute_result"
        }
      ],
      "source": [
        "expected_correct = 0.5\n",
        "expected_correct"
      ]
    },
    {
      "cell_type": "code",
      "execution_count": 43,
      "metadata": {
        "deletable": false,
        "editable": false,
        "id": "sAK0iYIHAc0z"
      },
      "outputs": [
        {
          "ename": "NameError",
          "evalue": "name 'grader' is not defined",
          "output_type": "error",
          "traceback": [
            "\u001b[1;31m---------------------------------------------------------------------------\u001b[0m",
            "\u001b[1;31mNameError\u001b[0m                                 Traceback (most recent call last)",
            "Cell \u001b[1;32mIn[43], line 1\u001b[0m\n\u001b[1;32m----> 1\u001b[0m \u001b[43mgrader\u001b[49m\u001b[38;5;241m.\u001b[39mcheck(\u001b[38;5;124m\"\u001b[39m\u001b[38;5;124mq1_2\u001b[39m\u001b[38;5;124m\"\u001b[39m)\n",
            "\u001b[1;31mNameError\u001b[0m: name 'grader' is not defined"
          ]
        }
      ],
      "source": [
        "grader.check(\"q1_2\")"
      ]
    },
    {
      "cell_type": "markdown",
      "metadata": {
        "id": "GYD4Qj1eAc0z"
      },
      "source": [
        "O objetivo agora é ver se o nosso desvio em relação a esta proporção esperada de respostas corretas se deve a algo diferente do acaso.\n",
        "\n",
        "**Pergunta 1.3.** Qual das alternativas a seguir é a melhor estatística para testar este modelo? Atribua `best_stat` a 1, 2 ou 3.\n",
        "\n",
        "1. A diferença entre a proporção esperada de respostas corretas e a proporção real de respostas corretas.\n",
        "2. A diferença absoluta entre a proporção esperada de respostas corretas e a proporção real de respostas corretas.\n",
        "3. A soma da proporção esperada de respostas corretas e a proporção real de respostas corretas."
      ]
    },
    {
      "cell_type": "code",
      "execution_count": null,
      "metadata": {
        "id": "6DrRiiQtAc00"
      },
      "outputs": [],
      "source": [
        "best_stat = 1"
      ]
    },
    {
      "cell_type": "markdown",
      "metadata": {
        "id": "lMGv6pIMAc00"
      },
      "source": [
        "***Observação:*** Se você inicialmente respondeu 1.3 incorretamente, reserve um tempo para revisar o [lançamento de moedas, abordado na Aula 20](https://dsc10.com/resources/lectures/lec20/lec20.html#Example:-Is-our-coin-fair?) antes de continuar."
      ]
    },
    {
      "cell_type": "markdown",
      "metadata": {
        "id": "QsrwM7eiAc00"
      },
      "source": [
        "**Questão 1.4.** Conclua a implementação da função `calculate_test_stat`, que recebe uma proporção esperada e uma proporção real e retorna o valor da estatística de teste que você escolheu (como uma proporção entre 0 e 1). Suponha que ambas as entradas sejam proporções entre 0 e 1."
      ]
    },
    {
      "cell_type": "code",
      "execution_count": null,
      "metadata": {
        "id": "uG-AyN_YAc00"
      },
      "outputs": [],
      "source": [
        "def test_statistic(expected_prop, actual_prop):\n",
        "    return actual_prop - expected_prop"
      ]
    },
    {
      "cell_type": "markdown",
      "metadata": {
        "id": "W0mXI8ItAc00"
      },
      "source": [
        "**Pergunta 1.5.** Use sua função recém-definida para calcular a estatística de teste observada para o experimento de Emily."
      ]
    },
    {
      "cell_type": "code",
      "execution_count": null,
      "metadata": {
        "id": "XKIEte93Ac00"
      },
      "outputs": [
        {
          "data": {
            "text/plain": [
              "-0.06"
            ]
          },
          "execution_count": 7,
          "metadata": {},
          "output_type": "execute_result"
        }
      ],
      "source": [
        "observed_test_stat = test_statistic(0.5, 0.44)\n",
        "observed_test_stat"
      ]
    },
    {
      "cell_type": "markdown",
      "metadata": {
        "id": "L02YxjLlAc01"
      },
      "source": [
        "**Esta estatística de teste é provável se a hipótese nula for verdadeira? Ou o desvio da proporção esperada é devido a algo diferente do acaso?**\n",
        "\n",
        "Para responder a esta questão, precisamos de ver como seria a nossa estatística de teste se a hipótese nula fosse verdadeira, para ver se a nossa estatística de teste observada é semelhante. Portanto, simularemos o experimento de Emily assumindo que a hipótese nula é verdadeira e calcularemos a estatística de teste para cada simulação.\n",
        "\n",
        "**Pergunta 1.6.** Para começar a simular, comece criando um array que contém dois itens. O primeiro item deve ser a proporção de vezes, assumindo que a hipótese nula seja verdadeira, um praticante de TT detecta corretamente o HEF de Emily. O segundo item deve ser a proporção de vezes, sob a mesma suposição, que o praticante de TT dá um palpite incorreto. Atribua `model_proportions` a esta matriz.\n",
        "\n",
        "Depois disso, use a função `np.random.multinomial` para simular Emily repetindo seu experimento 280 vezes (o mesmo número de experimentos que ela fez na vida real) e atribua a proporção de suposições corretas a `simulation_proportion`. Por último, defina `one_simulated_test_stat` como a estatística de teste desta simulação.\n",
        "\n",
        "***Dica:*** Consulte a Aula 19 ou [a documentação `np.random.multinomial`](https://numpy.org/doc/stable/reference/random/generated/numpy.random.multinomial.html) para se orientar."
      ]
    },
    {
      "cell_type": "code",
      "execution_count": null,
      "metadata": {
        "id": "uRQtyEuvAc01"
      },
      "outputs": [
        {
          "data": {
            "text/plain": [
              "np.float64(-0.004545454545454519)"
            ]
          },
          "execution_count": 8,
          "metadata": {},
          "output_type": "execute_result"
        }
      ],
      "source": [
        "num_simulations = 220\n",
        "model_proportions = np.array([0.5, 0.5])\n",
        "simulation_proportion = np.random.multinomial(num_simulations, model_proportions)\n",
        "one_test_statistic = test_statistic(0.5, simulation_proportion[0] / num_simulations)\n",
        "one_test_statistic"
      ]
    },
    {
      "cell_type": "markdown",
      "metadata": {
        "id": "pRrS9PRrAc01"
      },
      "source": [
        "**Pergunta 1.7.** Vamos agora ver como é realmente a distribuição das estatísticas de teste sob nossa hipótese nula. Atribua `simulated_test_stats` a uma matriz de 10.000 estatísticas de teste que você simula, supondo que a hipótese nula seja verdadeira.\n",
        "\n",
        "***Dica:*** Você precisará reutilizar a maior parte do código que escreveu na questão 1.6."
      ]
    },
    {
      "cell_type": "code",
      "execution_count": null,
      "metadata": {
        "for_assignment_type": "student",
        "id": "rj4bhRheAc01",
        "scrolled": true
      },
      "outputs": [
        {
          "data": {
            "text/plain": [
              "array([ 0.00454545, -0.00454545, -0.03181818, ...,  0.01363636,\n",
              "       -0.02272727, -0.00909091])"
            ]
          },
          "execution_count": 13,
          "metadata": {},
          "output_type": "execute_result"
        }
      ],
      "source": [
        "def simulate_null_hypothesis(n, proportions, num_tests, expected_proportion):\n",
        "    results = np.array([])\n",
        "\n",
        "    for i in range(n):\n",
        "        simulated_proportion = np.random.multinomial(num_tests, proportions)\n",
        "        simulated_test_statistic = test_statistic(expected_proportion, simulated_proportion[0] / num_tests)\n",
        "        results = np.append(results, simulated_test_statistic)\n",
        "\n",
        "    return results\n",
        "\n",
        "num_repetitions = 10_000\n",
        "\n",
        "simulated_test_statistics = simulate_null_hypothesis(num_repetitions, [0.5, 0.5], num_simulations, 0.5)\n",
        "simulated_test_statistics"
      ]
    },
    {
      "cell_type": "markdown",
      "metadata": {
        "id": "vRZBhw8MAc01"
      },
      "source": [
        "Vamos ver a distribuição das estatísticas de teste simuladas sob o nulo, para ver como a estatística de teste observada se compara às simuladas."
      ]
    },
    {
      "cell_type": "code",
      "execution_count": null,
      "metadata": {
        "id": "7DcOQV-gAc01"
      },
      "outputs": [
        {
          "data": {
            "image/png": "[encoded data removed]",
            "text/plain": [
              "<Figure size 1000x500 with 1 Axes>"
            ]
          },
          "metadata": {},
          "output_type": "display_data"
        }
      ],
      "source": [
        "t = bpd.DataFrame().assign(Simulated_Test_Statistics = simulated_test_statistics)\n",
        "t.plot(kind='hist', density=True, ec='w', bins=20, figsize=(10, 5))\n",
        "plt.axvline(x=observed_test_stat, color='black', label='estatística observada', linewidth=4)\n",
        "plt.legend();"
      ]
    },
    {
      "cell_type": "markdown",
      "metadata": {
        "id": "2gqkdRxFAc01"
      },
      "source": [
        "Podemos apresentar um argumento visual sobre se acreditamos ou não que a estatística de teste observada provavelmente ocorrerá sob o valor nulo, ou podemos usar a definição de valores-p para nos ajudar a apresentar um argumento mais formal.\n",
        "\n",
        "**Pergunta 1.8.** Primeiro, vamos lembrar o que é um valor p. Atribua `p_def` ao número correspondente à definição correta de um valor p.\n",
        "\n",
        "1. A chance, sob a hipótese nula, de que a estatística do teste seja igual ao valor observado.\n",
        "2. A chance, sob a hipótese nula, de que a estatística de teste seja igual ao valor observado ou esteja ainda mais na direção da alternativa.\n",
        "3. A chance, sob a hipótese alternativa, de que a estatística de teste seja igual ao valor que foi observado ou esteja ainda mais na direção do nulo.\n",
        "4. O número de vezes, sob a hipótese nula, que a estatística de teste é igual ao valor observado ou está ainda mais na direção da alternativa."
      ]
    },
    {
      "cell_type": "code",
      "execution_count": null,
      "metadata": {
        "id": "ZCYFwqAEAc01"
      },
      "outputs": [],
      "source": [
        "p_def = 2"
      ]
    },
    {
      "cell_type": "markdown",
      "metadata": {
        "id": "QZngPf0WAc02"
      },
      "source": [
        "**Pergunta 1.9.** Usando a definição acima, calcule o valor p para o experimento de Emily e atribua-o a `emily_p_val`.\n",
        "\n",
        "***Dica:*** Valores grandes de nossa estatística de teste fazem você se inclinar para o nulo ou para a alternativa? Consulte a Aula 21 ou [CIT 11.1](https://inferentialthinking.com/chapters/11/1/Assessing_a_Model.html) para obter exemplos."
      ]
    },
    {
      "cell_type": "code",
      "execution_count": null,
      "metadata": {
        "id": "9jCUIabwAc02"
      },
      "outputs": [
        {
          "data": {
            "text/plain": [
              "0.0696"
            ]
          },
          "execution_count": 18,
          "metadata": {},
          "output_type": "execute_result"
        }
      ],
      "source": [
        "emily_p_val = (np.count_nonzero(simulated_test_statistics <= observed_test_stat) / num_repetitions) + (np.count_nonzero(simulated_test_statistics >= 0 - observed_test_stat) / num_repetitions)\n",
        "emily_p_val"
      ]
    },
    {
      "cell_type": "markdown",
      "metadata": {
        "id": "qBYSRVsZAc02"
      },
      "source": [
        "Como queremos ter certeza sobre a eficácia dos tratamentos médicos, vamos usar um nível de significância de 0,01, a convenção padrão para ser “altamente estatisticamente significativo”. Isso significa que se nosso valor p for menor ou igual a 0,01, então rejeitamos a hipótese nula em favor da alternativa. Caso contrário, não rejeitaremos a hipótese nula. **Observe que isso não significa que aceitamos a hipótese nula como correta, mas sim que não temos evidências suficientes para rejeitá-la.**\n",
        "\n",
        "Seu valor p e esta convenção devem ajudá-lo a tirar suas próprias conclusões sobre o experimento de Emily Rosa.\n",
        "\n",
        "O Toque Terapêutico caiu em desuso após esse experimento, que acabou sendo [\n",
        "aceito em um jornal médico de prestígio](https://pubmed.ncbi.nlm.nih.gov/9533499/). Os praticantes de TT reagiram e acusaram Emily e sua família de adulterar os resultados, enquanto alguns alegaram que o mau humor espiritual de Emily em relação ao Toque Terapêutico dificultava a leitura de seu HEF. Seja o que for, o experimento de Emily é um exemplo clássico de como qualquer pessoa, com os recursos certos, pode testar o que quiser!"
      ]
    },
    {
      "cell_type": "markdown",
      "metadata": {
        "id": "6Lczd-0-Ac02"
      },
      "source": [
        "## 2. Anúncios no YouTube ▶️"
      ]
    },
    {
      "cell_type": "markdown",
      "metadata": {
        "id": "LV6msoiJAc03"
      },
      "source": [
        "O YouTube, a maior plataforma de compartilhamento de vídeos do mundo, gera receita com anúncios que aparecem antes e durante os vídeos.\n",
        "\n",
        "Suponha que o YouTube divulgue publicamente uma declaração revelando que 94% dos seus anúncios podem ser ignorados (o que significa que, supostamente, apenas 6% dos seus anúncios não podem ser ignorados).\n",
        "\n",
        "King Triton, o fiel mascote da UCSD, queria testar se esta afirmação era verdadeira. Ele clicou em vários vídeos e registrou se os anúncios em cada vídeo podiam ou não ser ignorados. Ele assistiu a vídeos até chegar a 100 anúncios e descobriu que 16 deles não eram puláveis, ou apenas 84% ​​eram puláveis. King Triton está irritado e acredita que a reivindicação de 94% do YouTube é muito alta. Vamos investigar!"
      ]
    },
    {
      "cell_type": "markdown",
      "metadata": {
        "deletable": false,
        "editable": false,
        "id": "z-jE4RIYAc03"
      },
      "source": [
        "<!-- COMEÇAR PERGUNTA -->\n",
        "\n",
        "**Pergunta 2.1.** Você decide realizar um teste de hipótese. Quais são as hipóteses nula e alternativa para o seu teste? Escreva ambas as respostas na célula abaixo.\n",
        "\n",
        "<!--\n",
        "COMEÇAR PERGUNTA\n",
        "nome: q2_1\n",
        "manual: verdadeiro\n",
        "-->"
      ]
    },
    {
      "cell_type": "markdown",
      "metadata": {
        "id": "Y48fftZUAc03"
      },
      "source": [
        "_Digite sua resposta aqui, substituindo este texto._"
      ]
    },
    {
      "cell_type": "markdown",
      "metadata": {
        "id": "wmU-G_5uAc03"
      },
      "source": [
        "<!-- FIM DA PERGUNTA -->\n",
        "\n",
        "\n",
        "\n",
        "**Pergunta 2.2.** Atribua `null_probabilities` a uma *matriz* de dois itens, de modo que o **primeiro** elemento seja a chance de um anúncio do YouTube ser **pulável**, e o **segundo** elemento é a chance de um anúncio do YouTube ser **não pulável**, sob as suposições da **hipótese nula**."
      ]
    },
    {
      "cell_type": "code",
      "execution_count": null,
      "metadata": {
        "id": "re3ZoPr8Ac04"
      },
      "outputs": [
        {
          "data": {
            "text/plain": [
              "[0.06, 0.94]"
            ]
          },
          "execution_count": 28,
          "metadata": {},
          "output_type": "execute_result"
        }
      ],
      "source": [
        "null_probabilities = [0.06, 0.94]\n",
        "null_probabilities"
      ]
    },
    {
      "cell_type": "markdown",
      "metadata": {
        "id": "O1z2CmAmAc04"
      },
      "source": [
        "**Pergunta 2.3.** Usando a matriz definida acima, simule o ato de assistir a 100 anúncios no YouTube, 10.000 vezes. Crie um array chamado `unskippable_counts` contendo o **número de anúncios não ignoráveis** em cada simulação."
      ]
    },
    {
      "cell_type": "code",
      "execution_count": null,
      "metadata": {
        "id": "SLhayOsrAc04"
      },
      "outputs": [
        {
          "data": {
            "text/plain": [
              "array([3., 5., 5., ..., 4., 2., 3.])"
            ]
          },
          "execution_count": 34,
          "metadata": {},
          "output_type": "execute_result"
        }
      ],
      "source": [
        "def count_unskippables(n):\n",
        "    arr = np.array([])\n",
        "    for i in range(n):\n",
        "        num = np.random.choice([True, False], 100, replace=True, p=null_probabilities)\n",
        "        arr = np.append(arr, np.count_nonzero(num))\n",
        "\n",
        "    return arr\n",
        "\n",
        "unskippable_counts = count_unskippables(10_000)\n",
        "unskippable_counts"
      ]
    },
    {
      "cell_type": "markdown",
      "metadata": {
        "id": "A5qzopynAc04"
      },
      "source": [
        "Execute a célula abaixo para visualizar os resultados da simulação."
      ]
    },
    {
      "cell_type": "code",
      "execution_count": null,
      "metadata": {
        "id": "hfwCVihfAc04"
      },
      "outputs": [
        {
          "data": {
            "image/png": "[encoded data removed]",
            "text/plain": [
              "<Figure size 1000x500 with 1 Axes>"
            ]
          },
          "metadata": {},
          "output_type": "display_data"
        }
      ],
      "source": [
        "bpd.DataFrame().assign(unskippable_counts = unskippable_counts) \\\n",
        "               .plot(kind='hist', density=True, bins=15, ec='w', figsize=(10, 5))\n",
        "plt.axvline(x=16, color='black', label='observed statistic', linewidth=4)\n",
        "plt.legend();"
      ]
    },
    {
      "cell_type": "markdown",
      "metadata": {
        "id": "vx--NgJ0Ac05"
      },
      "source": [
        "**Pergunta 2.4.** Use os resultados da simulação para calcular o valor p para este teste de hipótese e atribua sua resposta a `unskippable_p_val`."
      ]
    },
    {
      "cell_type": "code",
      "execution_count": null,
      "metadata": {
        "id": "pIHrt8-wAc05"
      },
      "outputs": [
        {
          "data": {
            "text/plain": [
              "0.0001"
            ]
          },
          "execution_count": 38,
          "metadata": {},
          "output_type": "execute_result"
        }
      ],
      "source": [
        "delay_p_val = (np.count_nonzero(unskippable_counts >= 16) / 10000) + (np.count_nonzero(unskippable_counts <= 2 * unskippable_counts.mean() - 16) / 10000)\n",
        "delay_p_val"
      ]
    },
    {
      "cell_type": "markdown",
      "metadata": {
        "id": "4upTTAi5Ac05"
      },
      "source": [
        "Você deve ser capaz de perceber, tanto pelo histograma quanto pelo valor-p calculado, que o YouTube parece ter mais anúncios que não podem ser ignorados do que afirmam! Talvez eles tenham cometido um erro de digitação no anúncio e quisessem dizer 84% em vez de 94%?"
      ]
    },
    {
      "cell_type": "markdown",
      "metadata": {
        "id": "N4lJD4_TAc05"
      },
      "source": [
        "## Linha de chegada 🏁\n",
        "\n",
        "Parabéns! Você concluiu o Laboratório 6.\n",
        "\n",
        "**Citações:** Você usou alguma ferramenta generativa de inteligência artificial para ajudá-lo nesta tarefa? Em caso afirmativo, indique, para cada ferramenta que você usou, o nome da ferramenta (ex. ChatGPT) e o(s) problema(s) nesta tarefa onde você usou a ferramenta para obter ajuda."
      ]
    },
    {
      "cell_type": "markdown",
      "metadata": {
        "id": "0kjwGlgaAc05"
      },
      "source": [
        "<hr style=\"cor:Marrom;cor de fundo:Marrom;borda:0 nenhum; altura: 3px;\">\n",
        "\n",
        "Por favor, cite ferramentas aqui.\n",
        "\n",
        "<hr style=\"cor:Marrom;cor de fundo:Marrom;borda:0 nenhum; altura: 3px;\">"
      ]
    },
    {
      "cell_type": "markdown",
      "metadata": {
        "id": "y2bBiYr5Ac05"
      },
      "source": [
        "Para enviar sua tarefa:\n",
        "\n",
        "1. Selecione `Kernel -> Reiniciar e executar tudo` para garantir que você executou todas as células, incluindo as células de teste.\n",
        "2. Leia o caderno para ter certeza de que está tudo bem e que todos os testes foram aprovados.\n",
        "3. Baixe seu notebook usando `Arquivo -> Baixar como -> Notebook (.ipynb)` e, em seguida, carregue seu notebook para o Moodle."
      ]
    }
  ],
  "metadata": {
    "colab": {
      "provenance": []
    },
    "kernelspec": {
      "display_name": "Python 3 (ipykernel)",
      "language": "python",
      "name": "python3"
    },
    "language_info": {
      "codemirror_mode": {
        "name": "ipython",
        "version": 3
      },
      "file_extension": ".py",
      "mimetype": "text/x-python",
      "name": "python",
      "nbconvert_exporter": "python",
      "pygments_lexer": "ipython3",
      "version": "3.11.3"
    }
  },
  "nbformat": 4,
  "nbformat_minor": 0
}
