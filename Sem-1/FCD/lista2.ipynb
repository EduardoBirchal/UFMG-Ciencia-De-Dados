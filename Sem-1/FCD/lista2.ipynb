{
  "cells": [
    {
      "cell_type": "markdown",
      "metadata": {
        "colab_type": "text",
        "id": "view-in-github"
      },
      "source": [
        "<a href=\"https://colab.research.google.com/github/flaviovdf/fcd/blob/main/labs/lab02/sol.ipynb\" target=\"_parent\"><img src=\"https://colab.research.google.com/assets/colab-badge.svg\" alt=\"Open In Colab\"/></a>"
      ]
    },
    {
      "cell_type": "markdown",
      "metadata": {
        "id": "L5Mc_-g6apUI"
      },
      "source": [
        "# Laboratório 2: Visualizações de Dados e Funções Python\n",
        "\n",
        "Bem-vindo ao Laboratório 2! Esta semana você praticará alguns métodos DataFrame (especialmente `groupby`), criará visualizações de dados e aprenderá como escrever suas próprias funções em Python. Criar funções pode ser uma novidade para você, mas não se preocupe, esta tarefa irá guiá-lo nesse processo! Você deve concluir todo este laboratório e enviá-lo ao **Moodle** até às **23h59** da data de vencimento.\n",
        "\n",
        "Os tópicos deste laboratório são abordados em [BPD 6](https://notes.dsc10.com/01-getting_started/functions-defining.html), [11](https://notes.dsc10.com/02-data_sets/groupby.html), [12](https://notes.dsc10.com/02-data_sets/apply.html) nas notas de `babypandas` e no [Chapter 7](https://inferentialthinking.com/chapters/07/Visualization.html) do livro texto.\n",
        "\n",
        "\n",
        "**Não use loops for em nenhuma pergunta deste laboratório.** Se você não sabe o que é um loop for, não se preocupe: ainda não abordamos isso. Mas se você sabe o que eles são e está se perguntando por que não é correto usá-los, é porque os loops em Python são lentos e os loops em arrays e DataFrames geralmente devem ser evitados.\n",
        "\n",
        "Primeiro, configure os testes e importações executando a célula abaixo."
      ]
    },
    {
      "cell_type": "code",
      "execution_count": 169,
      "metadata": {
        "id": "KmPbfvl3auR4"
      },
      "outputs": [],
      "source": [
        "# Descomente para executar no Colab\n",
        "! pip install babypandas --quiet"
      ]
    },
    {
      "cell_type": "code",
      "execution_count": 170,
      "metadata": {
        "id": "EjDQdGmFapUL"
      },
      "outputs": [],
      "source": [
        "import numpy as np\n",
        "import babypandas as bpd\n",
        "\n",
        "# Aqui configuramos a biblioteca de visualização de dados.\n",
        "import matplotlib.pyplot as plt\n",
        "plt.style.use('ggplot')\n",
        "plt.rcParams['figure.figsize'] = (10, 6)"
      ]
    },
    {
      "cell_type": "markdown",
      "metadata": {
        "id": "dsdjskgEapUM"
      },
      "source": [
        "## 1. Aplicativos da Google Play Store 📲"
      ]
    },
    {
      "cell_type": "markdown",
      "metadata": {
        "id": "Fz2ffKsmapUM"
      },
      "source": [
        "Neste problema, praticaremos manipulações de DataFrame e visualizações de dados, enquanto exploramos o [Google Play Store Apps Dataset](https://www.kaggle.com/lava18/google-play-store-apps), extraído da Google Play Store."
      ]
    },
    {
      "cell_type": "code",
      "execution_count": 171,
      "metadata": {
        "id": "ZUDpEUhxapUN"
      },
      "outputs": [
        {
          "data": {
            "text/html": [
              "<div>\n",
              "<style scoped>\n",
              "    .dataframe tbody tr th:only-of-type {\n",
              "        vertical-align: middle;\n",
              "    }\n",
              "\n",
              "    .dataframe tbody tr th {\n",
              "        vertical-align: top;\n",
              "    }\n",
              "\n",
              "    .dataframe thead th {\n",
              "        text-align: right;\n",
              "    }\n",
              "</style>\n",
              "<table border=\"1\" class=\"dataframe\">\n",
              "  <thead>\n",
              "    <tr style=\"text-align: right;\">\n",
              "      <th></th>\n",
              "      <th>App</th>\n",
              "      <th>Category</th>\n",
              "      <th>Rating</th>\n",
              "      <th>Reviews</th>\n",
              "      <th>Size</th>\n",
              "      <th>Installs</th>\n",
              "      <th>Type</th>\n",
              "      <th>Price</th>\n",
              "      <th>Content Rating</th>\n",
              "      <th>Genres</th>\n",
              "    </tr>\n",
              "  </thead>\n",
              "  <tbody>\n",
              "    <tr>\n",
              "      <th>0</th>\n",
              "      <td>Photo Editor &amp; Candy Camera &amp; Grid &amp; ScrapBook</td>\n",
              "      <td>ART_AND_DESIGN</td>\n",
              "      <td>4.1</td>\n",
              "      <td>159</td>\n",
              "      <td>19M</td>\n",
              "      <td>10000.0</td>\n",
              "      <td>Free</td>\n",
              "      <td>0</td>\n",
              "      <td>Everyone</td>\n",
              "      <td>Art &amp; Design</td>\n",
              "    </tr>\n",
              "    <tr>\n",
              "      <th>1</th>\n",
              "      <td>Coloring book moana</td>\n",
              "      <td>ART_AND_DESIGN</td>\n",
              "      <td>3.9</td>\n",
              "      <td>967</td>\n",
              "      <td>14M</td>\n",
              "      <td>500000.0</td>\n",
              "      <td>Free</td>\n",
              "      <td>0</td>\n",
              "      <td>Everyone</td>\n",
              "      <td>Art &amp; Design;Pretend Play</td>\n",
              "    </tr>\n",
              "    <tr>\n",
              "      <th>2</th>\n",
              "      <td>U Launcher Lite – FREE Live Cool Themes, Hide ...</td>\n",
              "      <td>ART_AND_DESIGN</td>\n",
              "      <td>4.7</td>\n",
              "      <td>87510</td>\n",
              "      <td>8.7M</td>\n",
              "      <td>5000000.0</td>\n",
              "      <td>Free</td>\n",
              "      <td>0</td>\n",
              "      <td>Everyone</td>\n",
              "      <td>Art &amp; Design</td>\n",
              "    </tr>\n",
              "    <tr>\n",
              "      <th>3</th>\n",
              "      <td>Sketch - Draw &amp; Paint</td>\n",
              "      <td>ART_AND_DESIGN</td>\n",
              "      <td>4.5</td>\n",
              "      <td>215644</td>\n",
              "      <td>25M</td>\n",
              "      <td>50000000.0</td>\n",
              "      <td>Free</td>\n",
              "      <td>0</td>\n",
              "      <td>Teen</td>\n",
              "      <td>Art &amp; Design</td>\n",
              "    </tr>\n",
              "    <tr>\n",
              "      <th>4</th>\n",
              "      <td>Pixel Draw - Number Art Coloring Book</td>\n",
              "      <td>ART_AND_DESIGN</td>\n",
              "      <td>4.3</td>\n",
              "      <td>967</td>\n",
              "      <td>2.8M</td>\n",
              "      <td>100000.0</td>\n",
              "      <td>Free</td>\n",
              "      <td>0</td>\n",
              "      <td>Everyone</td>\n",
              "      <td>Art &amp; Design;Creativity</td>\n",
              "    </tr>\n",
              "    <tr>\n",
              "      <th>...</th>\n",
              "      <td>...</td>\n",
              "      <td>...</td>\n",
              "      <td>...</td>\n",
              "      <td>...</td>\n",
              "      <td>...</td>\n",
              "      <td>...</td>\n",
              "      <td>...</td>\n",
              "      <td>...</td>\n",
              "      <td>...</td>\n",
              "      <td>...</td>\n",
              "    </tr>\n",
              "    <tr>\n",
              "      <th>10820</th>\n",
              "      <td>Sya9a Maroc - FR</td>\n",
              "      <td>FAMILY</td>\n",
              "      <td>4.5</td>\n",
              "      <td>38</td>\n",
              "      <td>53M</td>\n",
              "      <td>5000.0</td>\n",
              "      <td>Free</td>\n",
              "      <td>0</td>\n",
              "      <td>Everyone</td>\n",
              "      <td>Education</td>\n",
              "    </tr>\n",
              "    <tr>\n",
              "      <th>10821</th>\n",
              "      <td>Fr. Mike Schmitz Audio Teachings</td>\n",
              "      <td>FAMILY</td>\n",
              "      <td>5.0</td>\n",
              "      <td>4</td>\n",
              "      <td>3.6M</td>\n",
              "      <td>100.0</td>\n",
              "      <td>Free</td>\n",
              "      <td>0</td>\n",
              "      <td>Everyone</td>\n",
              "      <td>Education</td>\n",
              "    </tr>\n",
              "    <tr>\n",
              "      <th>10822</th>\n",
              "      <td>Parkinson Exercices FR</td>\n",
              "      <td>MEDICAL</td>\n",
              "      <td>NaN</td>\n",
              "      <td>3</td>\n",
              "      <td>9.5M</td>\n",
              "      <td>1000.0</td>\n",
              "      <td>Free</td>\n",
              "      <td>0</td>\n",
              "      <td>Everyone</td>\n",
              "      <td>Medical</td>\n",
              "    </tr>\n",
              "    <tr>\n",
              "      <th>10823</th>\n",
              "      <td>The SCP Foundation DB fr nn5n</td>\n",
              "      <td>BOOKS_AND_REFERENCE</td>\n",
              "      <td>4.5</td>\n",
              "      <td>114</td>\n",
              "      <td>Varies with device</td>\n",
              "      <td>1000.0</td>\n",
              "      <td>Free</td>\n",
              "      <td>0</td>\n",
              "      <td>Mature 17+</td>\n",
              "      <td>Books &amp; Reference</td>\n",
              "    </tr>\n",
              "    <tr>\n",
              "      <th>10824</th>\n",
              "      <td>iHoroscope - 2018 Daily Horoscope &amp; Astrology</td>\n",
              "      <td>LIFESTYLE</td>\n",
              "      <td>4.5</td>\n",
              "      <td>398307</td>\n",
              "      <td>19M</td>\n",
              "      <td>10000000.0</td>\n",
              "      <td>Free</td>\n",
              "      <td>0</td>\n",
              "      <td>Everyone</td>\n",
              "      <td>Lifestyle</td>\n",
              "    </tr>\n",
              "  </tbody>\n",
              "</table>\n",
              "<p>10825 rows × 10 columns</p>\n",
              "</div>"
            ],
            "text/plain": [
              "                                                     App             Category  \\\n",
              "0         Photo Editor & Candy Camera & Grid & ScrapBook       ART_AND_DESIGN   \n",
              "1                                    Coloring book moana       ART_AND_DESIGN   \n",
              "2      U Launcher Lite – FREE Live Cool Themes, Hide ...       ART_AND_DESIGN   \n",
              "3                                  Sketch - Draw & Paint       ART_AND_DESIGN   \n",
              "4                  Pixel Draw - Number Art Coloring Book       ART_AND_DESIGN   \n",
              "...                                                  ...                  ...   \n",
              "10820                                   Sya9a Maroc - FR               FAMILY   \n",
              "10821                   Fr. Mike Schmitz Audio Teachings               FAMILY   \n",
              "10822                             Parkinson Exercices FR              MEDICAL   \n",
              "10823                      The SCP Foundation DB fr nn5n  BOOKS_AND_REFERENCE   \n",
              "10824      iHoroscope - 2018 Daily Horoscope & Astrology            LIFESTYLE   \n",
              "\n",
              "       Rating  Reviews                Size    Installs  Type Price  \\\n",
              "0         4.1      159                 19M     10000.0  Free     0   \n",
              "1         3.9      967                 14M    500000.0  Free     0   \n",
              "2         4.7    87510                8.7M   5000000.0  Free     0   \n",
              "3         4.5   215644                 25M  50000000.0  Free     0   \n",
              "4         4.3      967                2.8M    100000.0  Free     0   \n",
              "...       ...      ...                 ...         ...   ...   ...   \n",
              "10820     4.5       38                 53M      5000.0  Free     0   \n",
              "10821     5.0        4                3.6M       100.0  Free     0   \n",
              "10822     NaN        3                9.5M      1000.0  Free     0   \n",
              "10823     4.5      114  Varies with device      1000.0  Free     0   \n",
              "10824     4.5   398307                 19M  10000000.0  Free     0   \n",
              "\n",
              "      Content Rating                     Genres  \n",
              "0           Everyone               Art & Design  \n",
              "1           Everyone  Art & Design;Pretend Play  \n",
              "2           Everyone               Art & Design  \n",
              "3               Teen               Art & Design  \n",
              "4           Everyone    Art & Design;Creativity  \n",
              "...              ...                        ...  \n",
              "10820       Everyone                  Education  \n",
              "10821       Everyone                  Education  \n",
              "10822       Everyone                    Medical  \n",
              "10823     Mature 17+          Books & Reference  \n",
              "10824       Everyone                  Lifestyle  \n",
              "\n",
              "[10825 rows x 10 columns]"
            ]
          },
          "execution_count": 171,
          "metadata": {},
          "output_type": "execute_result"
        }
      ],
      "source": [
        "# Run this cell to load in the dataset\n",
        "apps = bpd.read_csv('https://raw.githubusercontent.com/dsc-courses/dsc10-2023-wi/main/labs/lab02/data/googleplaystore.csv')\n",
        "apps"
      ]
    },
    {
      "cell_type": "markdown",
      "metadata": {
        "id": "bmVEClSZapUN"
      },
      "source": [
        "Cada linha no DataFrame corresponde a um aplicativo. Aqui estão as descrições de algumas das colunas.\n",
        "- `'Category'`: Categoria à qual o aplicativo pertence.\n",
        "- `'Rating'`: Avaliação geral do usuário do aplicativo em 5 (no momento da recuperação de dados).\n",
        "- `'Reviews'`: Número de avaliações de usuários sobre o aplicativo (no momento da recuperação dos dados).\n",
        "- `'Installs'`: ​​Número de downloads/instalações do usuário para o aplicativo (no momento da recuperação dos dados).\n",
        "- `'Content Rating'`: Público-alvo do aplicativo, como \"Todos\" ou \"Adolescentes\".\n",
        "\n",
        "⚠️ Observe que `'Rating'` e `'Content Rating'` significam coisas diferentes. Não os confunda!"
      ]
    },
    {
      "cell_type": "markdown",
      "metadata": {
        "id": "gfSeQF57apUN"
      },
      "source": [
        "Observe que não definimos o índice do DataFrame, embora pareça que o nome do aplicativo seria um bom candidato. Mas os nomes dos aplicativos não são exclusivos! Podemos verificar isso com a ajuda do método Series `.unique()`. Quando chamado em uma Série, este método retorna um array de todos os valores distintos da Série, sem duplicatas.\n",
        "\n",
        "Vemos acima que o DataFrame possui 10.825 linhas. Isso significa que existem 10.825 aplicativos no conjunto de dados. Mas vamos calcular quantos nomes de aplicativos exclusivos existem:"
      ]
    },
    {
      "cell_type": "code",
      "execution_count": 172,
      "metadata": {
        "id": "GlhATg3eapUO"
      },
      "outputs": [
        {
          "data": {
            "text/plain": [
              "9644"
            ]
          },
          "execution_count": 172,
          "metadata": {},
          "output_type": "execute_result"
        }
      ],
      "source": [
        "len(apps.get('App').unique())"
      ]
    },
    {
      "cell_type": "markdown",
      "metadata": {
        "id": "O9h6auPoapUO"
      },
      "source": [
        "Como $9644 <10825$, deve haver duplicatas!\n",
        "\n",
        "Como existem duplicatas, o nome do aplicativo não é um bom rótulo de linha. Na verdade, não existe um bom rótulo de linha neste caso. Em situações como essa, deixaremos o índice como está."
      ]
    },
    {
      "cell_type": "markdown",
      "metadata": {
        "deletable": false,
        "editable": false,
        "id": "OuWTvQ2GapUO"
      },
      "source": [
        "**Pergunta 1.1.** Você pode pensar que, em uma escala de 1 a 5, um aplicativo intermediário típico deveria ter uma classificação de cerca de 3.\n",
        "Faça um histograma da coluna `'Rating'` para ver se é esse o caso."
      ]
    },
    {
      "cell_type": "code",
      "execution_count": 173,
      "metadata": {
        "id": "zIpAl59SapUO",
        "scrolled": true
      },
      "outputs": [
        {
          "data": {
            "text/plain": [
              "<Axes: ylabel='Frequency'>"
            ]
          },
          "execution_count": 173,
          "metadata": {},
          "output_type": "execute_result"
        },
        {
          "data": {
            "image/png": "[encoded data removed]",
            "text/plain": [
              "<Figure size 1000x600 with 1 Axes>"
            ]
          },
          "metadata": {},
          "output_type": "display_data"
        }
      ],
      "source": [
        "apps.get('Rating').plot(kind=\"hist\")"
      ]
    },
    {
      "cell_type": "markdown",
      "metadata": {
        "id": "Bkuj9nfTapUO"
      },
      "source": [
        "Certamente parece haver muitos aplicativos excelentes por aí! Seria interessante ver se os aplicativos com classificações mais altas também têm mais avaliações.\n",
        "\n",
        "**Pergunta 1.2.** Que tipo de gráfico você gostaria de criar para ajudar a determinar se os aplicativos com classificação mais alta também têm mais avaliações? Atribua 1, 2, 3 ou 4 ao nome `plot_type` abaixo.\n",
        "\n",
        "1. gráfico de dispersão\n",
        "2. gráfico de linha\n",
        "3. gráfico de barras\n",
        "4. histograma"
      ]
    },
    {
      "cell_type": "code",
      "execution_count": 174,
      "metadata": {
        "id": "y0Tgjv0BapUP"
      },
      "outputs": [],
      "source": [
        "plot_type = 2"
      ]
    },
    {
      "cell_type": "markdown",
      "metadata": {
        "deletable": false,
        "editable": false,
        "id": "C_v3AWm3apUP"
      },
      "source": [
        "**Pergunta 1.3.** Agora crie o gráfico identificado acima para ajudá-lo a determinar se os aplicativos com classificação mais alta também têm mais avaliações.\n",
        "\n",
        "<!--\n",
        "COMEÇAR PERGUNTA\n",
        "nome: q1_3\n",
        "-->"
      ]
    },
    {
      "cell_type": "code",
      "execution_count": 175,
      "metadata": {
        "id": "-0Yk0ywtapUP"
      },
      "outputs": [
        {
          "data": {
            "text/plain": [
              "<Axes: xlabel='Rating'>"
            ]
          },
          "execution_count": 175,
          "metadata": {},
          "output_type": "execute_result"
        },
        {
          "data": {
            "image/png": "[encoded data removed]",
            "text/plain": [
              "<Figure size 1000x600 with 1 Axes>"
            ]
          },
          "metadata": {},
          "output_type": "display_data"
        }
      ],
      "source": [
        "# Crie seu plot aqui.\n",
        "appsSorted = apps.groupby('Rating')\n",
        "appsSorted.mean().plot(kind=\"line\", y=\"Reviews\")"
      ]
    },
    {
      "cell_type": "markdown",
      "metadata": {
        "id": "Ylg7ZYC2apUP"
      },
      "source": [
        "**Pergunta 1.4.** Qual das seguintes afirmações podemos concluir, com base nestes dados? Atribua 1, 2, 3 ou 4 ao nome `plot_conclusion` abaixo.\n",
        "\n",
        "1. Os aplicativos com classificações mais altas tornam-se mais populares e, como mais pessoas estão usando esses aplicativos, mais avaliações são fornecidas.\n",
        "2. Os aplicativos com mais avaliações tornam-se mais populares e, como mais pessoas estão usando esses aplicativos, são atribuídas classificações mais altas.\n",
        "3. 1 e 2.\n",
        "4. Nem 1 nem 2."
      ]
    },
    {
      "cell_type": "code",
      "execution_count": 176,
      "metadata": {
        "id": "vh1c0SUAapUP"
      },
      "outputs": [],
      "source": [
        "plot_conclusion = 4"
      ]
    },
    {
      "cell_type": "markdown",
      "metadata": {
        "id": "hP07EC_eapUP"
      },
      "source": [
        "**Pergunta 1.5.** Atribua o nome `by_content` a um DataFrame que conte o número de aplicativos por `'Content Rating'`, indexados por `'Content Rating'`.\n",
        "\n",
        "*Dica*: Para manter apenas certas colunas em um DataFrame, chame `.get` com uma lista de nomes de colunas que você deseja manter."
      ]
    },
    {
      "cell_type": "code",
      "execution_count": 177,
      "metadata": {
        "id": "yXnYq2VbapUQ",
        "scrolled": true
      },
      "outputs": [
        {
          "data": {
            "text/plain": [
              "Content Rating\n",
              "Adults only 18+       3\n",
              "Everyone           8702\n",
              "Everyone 10+        413\n",
              "Mature 17+          499\n",
              "Teen               1206\n",
              "Unrated               2\n",
              "Name: App, dtype: int64"
            ]
          },
          "execution_count": 177,
          "metadata": {},
          "output_type": "execute_result"
        }
      ],
      "source": [
        "by_content = apps.groupby('Content Rating').count().get('App')\n",
        "by_content"
      ]
    },
    {
      "cell_type": "markdown",
      "metadata": {
        "id": "YLTeEUz0apUQ"
      },
      "source": [
        "**Pergunta 1.6.** Crie um DataFrame chamado `install_stats` que possui uma única coluna, `'Installs'`, que contém o número médio de `'Installs'` para cada tipo de classificação de conteúdo. Não há problema se as respostas forem exibidas em notação científica."
      ]
    },
    {
      "cell_type": "code",
      "execution_count": 178,
      "metadata": {
        "id": "qNFWEShfapUQ"
      },
      "outputs": [
        {
          "data": {
            "text/plain": [
              "Content Rating\n",
              "Adults only 18+    6.666667e+05\n",
              "Everyone           1.311844e+07\n",
              "Everyone 10+       3.204330e+07\n",
              "Mature 17+         1.107112e+07\n",
              "Teen               2.878636e+07\n",
              "Unrated            2.525000e+04\n",
              "Name: Installs, dtype: float64"
            ]
          },
          "execution_count": 178,
          "metadata": {},
          "output_type": "execute_result"
        }
      ],
      "source": [
        "install_stats = apps.groupby('Content Rating').mean().get('Installs')\n",
        "install_stats"
      ]
    },
    {
      "cell_type": "markdown",
      "metadata": {
        "id": "mFsuV3C8apUQ"
      },
      "source": [
        "**Pergunta 1.7.** Crie um DataFrame chamado `top_communication_apps_by_content_rating` que contenha, para cada `'Content Rating'` único, o número de aplicativos que atendem a ambas as condições:\n",
        "\n",
        "- `'Category'` é `'COMMUNICATION'`.\n",
        "- `'Rating'` está entre 4 e 5 (inclusive).\n",
        "\n",
        "A estrutura de `top_communication_apps_by_content_rating` deve ser a seguinte:\n",
        "\n",
        "- Deve ter apenas uma coluna, `'Top_Comm_Apps'`.\n",
        "- Deve ser ordenado por `'Top_Comm_Apps'` em ordem decrescente.\n",
        "\n",
        "*Dica:* Você pode fazer isso como quiser, mas uma maneira de proceder é:\n",
        "\n",
        "1. Criar um único DataFrame que contenha apenas as linhas que correspondam às condições especificadas\n",
        "2. Chamar a função `groupby` no DataFrame obtido anteriormente.\n",
        "3. Ordenar o DataFrame da etapa 2, além de usar as funções `assign` e `drop` para renomear a coluna `'App'` para `'Top_Comm_Apps'`."
      ]
    },
    {
      "cell_type": "code",
      "execution_count": 179,
      "metadata": {
        "id": "rFTt_qnPapUQ"
      },
      "outputs": [
        {
          "data": {
            "text/plain": [
              "Content Rating\n",
              "Unrated               1\n",
              "Adults only 18+       2\n",
              "Everyone 10+        341\n",
              "Mature 17+          349\n",
              "Teen                880\n",
              "Everyone           5795\n",
              "Name: App, dtype: int64"
            ]
          },
          "execution_count": 179,
          "metadata": {},
          "output_type": "execute_result"
        }
      ],
      "source": [
        "top_comm_apps = apps[\n",
        "    apps.get('Category') == 'COMMUNICATION' and \n",
        "    apps.get('Rating') >= 4 \n",
        "]\n",
        "top_comm_apps = top_comm_apps.groupby('Content Rating').count()\n",
        "top_comm_apps = top_comm_apps.sort_values('App')\n",
        "top_communication_apps_by_content_rating = top_comm_apps.get('App')\n",
        "top_communication_apps_by_content_rating"
      ]
    },
    {
      "cell_type": "markdown",
      "metadata": {
        "id": "RdL0DmXXapUR"
      },
      "source": [
        "**Pergunta 1.8.** Suponha que um bom aplicativo seja aquele com pelo menos um milhão de instalações e uma classificação de pelo menos 4,0. Crie uma variável chamada `best_category` contendo o nome da categoria com o maior número de aplicativos bons.\n",
        "\n",
        "_Nota:_ Sua resposta deve ser gerada usando código – não codificando uma string! (Em outras palavras, não escreva `best_category = \"DATING\"` se você acha que essa é a melhor categoria)."
      ]
    },
    {
      "cell_type": "code",
      "execution_count": 180,
      "metadata": {
        "id": "D_t-3NljapUR"
      },
      "outputs": [
        {
          "data": {
            "text/plain": [
              "'FAMILY'"
            ]
          },
          "execution_count": 180,
          "metadata": {},
          "output_type": "execute_result"
        }
      ],
      "source": [
        "best_category = apps[\n",
        "    apps.get('Installs') >= 1_000_000 and \n",
        "    apps.get('Rating') >= 4 \n",
        "].groupby('Category').count().sort_values('App', ascending=False).index[0]\n",
        "\n",
        "best_category"
      ]
    },
    {
      "cell_type": "markdown",
      "metadata": {
        "id": "4t2rYquTapUR"
      },
      "source": [
        "**Pergunta 1.9.** Faça um gráfico de barras da classificação média por categoria em que as barras são classificadas da menor para a maior. Seu resultado deve ficar assim:\n",
        "\n",
        "<img src=\"https://raw.githubusercontent.com/dsc-courses/dsc10-2023-wi/main/labs/lab02/data/barchart.jpg\" width=60%/>\n"
      ]
    },
    {
      "cell_type": "code",
      "execution_count": 181,
      "metadata": {
        "id": "RHPDMjmXapUR"
      },
      "outputs": [
        {
          "data": {
            "text/plain": [
              "<Axes: xlabel='Category'>"
            ]
          },
          "execution_count": 181,
          "metadata": {},
          "output_type": "execute_result"
        },
        {
          "data": {
            "image/png": "[encoded data removed]",
            "text/plain": [
              "<Figure size 1000x600 with 1 Axes>"
            ]
          },
          "metadata": {},
          "output_type": "display_data"
        }
      ],
      "source": [
        "apps.groupby('Category').median().sort_values('Rating').plot(kind='bar', y='Rating')"
      ]
    },
    {
      "cell_type": "markdown",
      "metadata": {
        "id": "-M9kdEkIi9Sn"
      },
      "source": [
        "## 2. Renda dos CEOs 💼\n",
        "\n",
        "No restante deste laboratório, veremos a remuneração de 2015 dos Diretores Executivos (CEOs) das 100 maiores empresas da Califórnia. Os dados foram compilados para uma análise do [Los Angeles Times ](http://spreadsheets.latimes.com/california-ceo-compensation/) e, em última análise, vieram [daqui](http://spreadsheets.latimes.com/california-ceo-compensation/), exigido pela Comissão de Valores Mobiliários dos EUA, de todas as empresas de capital aberto. Duas das empresas em nosso conjunto de dados têm dois CEOs, portanto há 102 CEOs no conjunto de dados.\n",
        "\n",
        "Copiamos os dados da página do LA Times para um arquivo chamado `raw_compensation.csv`. A página observa que todos os valores em dólares estão em milhões de dólares."
      ]
    },
    {
      "cell_type": "code",
      "execution_count": 182,
      "metadata": {
        "id": "GPNNu-Sgi9Sn"
      },
      "outputs": [
        {
          "data": {
            "text/html": [
              "<div>\n",
              "<style scoped>\n",
              "    .dataframe tbody tr th:only-of-type {\n",
              "        vertical-align: middle;\n",
              "    }\n",
              "\n",
              "    .dataframe tbody tr th {\n",
              "        vertical-align: top;\n",
              "    }\n",
              "\n",
              "    .dataframe thead th {\n",
              "        text-align: right;\n",
              "    }\n",
              "</style>\n",
              "<table border=\"1\" class=\"dataframe\">\n",
              "  <thead>\n",
              "    <tr style=\"text-align: right;\">\n",
              "      <th></th>\n",
              "      <th>Name</th>\n",
              "      <th>Company (Headquarters)</th>\n",
              "      <th>Total Pay</th>\n",
              "      <th>% Change</th>\n",
              "      <th>Cash Pay</th>\n",
              "      <th>Equity Pay</th>\n",
              "      <th>Other Pay</th>\n",
              "      <th>Ratio of CEO pay to average industry worker pay</th>\n",
              "    </tr>\n",
              "    <tr>\n",
              "      <th>Rank</th>\n",
              "      <th></th>\n",
              "      <th></th>\n",
              "      <th></th>\n",
              "      <th></th>\n",
              "      <th></th>\n",
              "      <th></th>\n",
              "      <th></th>\n",
              "      <th></th>\n",
              "    </tr>\n",
              "  </thead>\n",
              "  <tbody>\n",
              "    <tr>\n",
              "      <th>1</th>\n",
              "      <td>Mark V. Hurd*</td>\n",
              "      <td>Oracle (Redwood City)</td>\n",
              "      <td>$53.25</td>\n",
              "      <td>(No previous year)</td>\n",
              "      <td>$0.95</td>\n",
              "      <td>$52.27</td>\n",
              "      <td>$0.02</td>\n",
              "      <td>362.00000</td>\n",
              "    </tr>\n",
              "    <tr>\n",
              "      <th>2</th>\n",
              "      <td>Safra A. Catz*</td>\n",
              "      <td>Oracle (Redwood City)</td>\n",
              "      <td>$53.24</td>\n",
              "      <td>(No previous year)</td>\n",
              "      <td>$0.95</td>\n",
              "      <td>$52.27</td>\n",
              "      <td>$0.02</td>\n",
              "      <td>362.00000</td>\n",
              "    </tr>\n",
              "    <tr>\n",
              "      <th>3</th>\n",
              "      <td>Robert A. Iger</td>\n",
              "      <td>Walt Disney (Burbank)</td>\n",
              "      <td>$44.91</td>\n",
              "      <td>-3%</td>\n",
              "      <td>$24.89</td>\n",
              "      <td>$17.28</td>\n",
              "      <td>$2.74</td>\n",
              "      <td>477.00000</td>\n",
              "    </tr>\n",
              "    <tr>\n",
              "      <th>4</th>\n",
              "      <td>Marissa A. Mayer</td>\n",
              "      <td>Yahoo! (Sunnyvale)</td>\n",
              "      <td>$35.98</td>\n",
              "      <td>-15%</td>\n",
              "      <td>$1.00</td>\n",
              "      <td>$34.43</td>\n",
              "      <td>$0.55</td>\n",
              "      <td>342.00000</td>\n",
              "    </tr>\n",
              "    <tr>\n",
              "      <th>5</th>\n",
              "      <td>Marc Benioff</td>\n",
              "      <td>salesforce.com (San Francisco)</td>\n",
              "      <td>$33.36</td>\n",
              "      <td>-16%</td>\n",
              "      <td>$4.65</td>\n",
              "      <td>$27.26</td>\n",
              "      <td>$1.45</td>\n",
              "      <td>338.00000</td>\n",
              "    </tr>\n",
              "    <tr>\n",
              "      <th>...</th>\n",
              "      <td>...</td>\n",
              "      <td>...</td>\n",
              "      <td>...</td>\n",
              "      <td>...</td>\n",
              "      <td>...</td>\n",
              "      <td>...</td>\n",
              "      <td>...</td>\n",
              "      <td>...</td>\n",
              "    </tr>\n",
              "    <tr>\n",
              "      <th>98</th>\n",
              "      <td>Gregory N. Roberts</td>\n",
              "      <td>A-Mark Precious Metals (Santa Monica)</td>\n",
              "      <td>$0.94</td>\n",
              "      <td>-11%</td>\n",
              "      <td>$0.93</td>\n",
              "      <td>$0.00</td>\n",
              "      <td>$0.02</td>\n",
              "      <td>17.00000</td>\n",
              "    </tr>\n",
              "    <tr>\n",
              "      <th>99</th>\n",
              "      <td>Jose L. Laparte</td>\n",
              "      <td>PriceSmart (San Diego)</td>\n",
              "      <td>$0.81</td>\n",
              "      <td>-7%</td>\n",
              "      <td>$0.71</td>\n",
              "      <td>$0.00</td>\n",
              "      <td>$0.10</td>\n",
              "      <td>32.00000</td>\n",
              "    </tr>\n",
              "    <tr>\n",
              "      <th>100</th>\n",
              "      <td>Jack Dorsey</td>\n",
              "      <td>Twitter (San Francisco)</td>\n",
              "      <td>$0.07</td>\n",
              "      <td>(No previous year)</td>\n",
              "      <td>$0.00</td>\n",
              "      <td>$0.00</td>\n",
              "      <td>$0.07</td>\n",
              "      <td>0.63000</td>\n",
              "    </tr>\n",
              "    <tr>\n",
              "      <th>101</th>\n",
              "      <td>Elon R. Musk</td>\n",
              "      <td>Tesla Motors (Palo Alto)</td>\n",
              "      <td>$0.04</td>\n",
              "      <td>6%</td>\n",
              "      <td>$0.04</td>\n",
              "      <td>$0.00</td>\n",
              "      <td>$0.00</td>\n",
              "      <td>0.46000</td>\n",
              "    </tr>\n",
              "    <tr>\n",
              "      <th>102</th>\n",
              "      <td>Lawrence Page***</td>\n",
              "      <td>Alphabet (Mountain View)</td>\n",
              "      <td>$0.00</td>\n",
              "      <td>0%</td>\n",
              "      <td>$0.00</td>\n",
              "      <td>$0.00</td>\n",
              "      <td>$0.00</td>\n",
              "      <td>0.00001</td>\n",
              "    </tr>\n",
              "  </tbody>\n",
              "</table>\n",
              "<p>102 rows × 8 columns</p>\n",
              "</div>"
            ],
            "text/plain": [
              "                    Name                 Company (Headquarters) Total Pay  \\\n",
              "Rank                                                                        \n",
              "1          Mark V. Hurd*                  Oracle (Redwood City)   $53.25    \n",
              "2         Safra A. Catz*                  Oracle (Redwood City)   $53.24    \n",
              "3         Robert A. Iger                  Walt Disney (Burbank)   $44.91    \n",
              "4       Marissa A. Mayer                     Yahoo! (Sunnyvale)   $35.98    \n",
              "5           Marc Benioff         salesforce.com (San Francisco)   $33.36    \n",
              "...                  ...                                    ...       ...   \n",
              "98    Gregory N. Roberts  A-Mark Precious Metals (Santa Monica)    $0.94    \n",
              "99       Jose L. Laparte                 PriceSmart (San Diego)    $0.81    \n",
              "100          Jack Dorsey                Twitter (San Francisco)    $0.07    \n",
              "101         Elon R. Musk               Tesla Motors (Palo Alto)    $0.04    \n",
              "102     Lawrence Page***               Alphabet (Mountain View)    $0.00    \n",
              "\n",
              "                % Change Cash Pay Equity Pay Other Pay  \\\n",
              "Rank                                                     \n",
              "1     (No previous year)   $0.95     $52.27     $0.02    \n",
              "2     (No previous year)   $0.95     $52.27     $0.02    \n",
              "3                    -3%  $24.89     $17.28     $2.74    \n",
              "4                   -15%   $1.00     $34.43     $0.55    \n",
              "5                   -16%   $4.65     $27.26     $1.45    \n",
              "...                  ...      ...        ...       ...   \n",
              "98                  -11%   $0.93      $0.00     $0.02    \n",
              "99                   -7%   $0.71      $0.00     $0.10    \n",
              "100   (No previous year)   $0.00      $0.00     $0.07    \n",
              "101                   6%   $0.04      $0.00     $0.00    \n",
              "102                   0%   $0.00      $0.00     $0.00    \n",
              "\n",
              "      Ratio of CEO pay to average industry worker pay  \n",
              "Rank                                                   \n",
              "1                                           362.00000  \n",
              "2                                           362.00000  \n",
              "3                                           477.00000  \n",
              "4                                           342.00000  \n",
              "5                                           338.00000  \n",
              "...                                               ...  \n",
              "98                                           17.00000  \n",
              "99                                           32.00000  \n",
              "100                                           0.63000  \n",
              "101                                           0.46000  \n",
              "102                                           0.00001  \n",
              "\n",
              "[102 rows x 8 columns]"
            ]
          },
          "execution_count": 182,
          "metadata": {},
          "output_type": "execute_result"
        }
      ],
      "source": [
        "raw_compensation = bpd.read_csv('https://raw.githubusercontent.com/dsc-courses/dsc10-2023-wi/main/labs/lab02/data/raw_compensation.csv').set_index('Rank')\n",
        "raw_compensation"
      ]
    },
    {
      "cell_type": "markdown",
      "metadata": {
        "id": "hbmP6gK_i9Sn"
      },
      "source": [
        "Queremos calcular a média dos salários dos CEOs. Tente executar a célula abaixo. 🚨 Quando terminar, não se esqueça de comentar."
      ]
    },
    {
      "cell_type": "code",
      "execution_count": 183,
      "metadata": {
        "id": "-PvBDeVzi9So",
        "tags": [
          "raises-exception"
        ]
      },
      "outputs": [],
      "source": [
        "# Após rodar essa célula e observar o erro, comente-a para que o erro não se repita ao executar o notebook todo!\n",
        "\n",
        "#raw_compensation.get(\"Total Pay\").mean()"
      ]
    },
    {
      "cell_type": "markdown",
      "metadata": {
        "id": "z3yC8Lf1i9So"
      },
      "source": [
        "Você deverá ver um erro. Vamos examinar por que esse erro ocorreu observando os valores na coluna `'Total Pay'`.\n",
        "\n",
        "**Pergunta 2.1.** Use a função `type` para definir `total_pay_type` como o tipo do primeiro item da coluna `'Total Pay'`."
      ]
    },
    {
      "cell_type": "code",
      "execution_count": 184,
      "metadata": {
        "id": "6xaXqqw_i9So"
      },
      "outputs": [
        {
          "data": {
            "text/plain": [
              "str"
            ]
          },
          "execution_count": 184,
          "metadata": {},
          "output_type": "execute_result"
        }
      ],
      "source": [
        "total_pay_type = type(raw_compensation.get(\"Total Pay\").iloc[0])\n",
        "total_pay_type"
      ]
    },
    {
      "cell_type": "markdown",
      "metadata": {
        "id": "78S0wIVzi9Sp"
      },
      "source": [
        "**Pergunta 2.2.** Você deve ter descoberto que os valores na coluna `'Total Pay'` são strings (texto). Não faz sentido calcular a média dos valores do texto, então precisamos convertê-los em números se quisermos fazer isso. Extraia o primeiro valor na coluna `'Total Pay'`. É o salário de 2015 de Mark Hurd, um dos dois CEOs da Oracle em 2015, em *milhões* de dólares. Chame-o de `mark_hurd_pay_string`."
      ]
    },
    {
      "cell_type": "code",
      "execution_count": 185,
      "metadata": {
        "id": "Yc8yNbY_i9Sp"
      },
      "outputs": [
        {
          "data": {
            "text/plain": [
              "'$53.25 '"
            ]
          },
          "execution_count": 185,
          "metadata": {},
          "output_type": "execute_result"
        }
      ],
      "source": [
        "mark_hurd_pay_string = raw_compensation.get(\"Total Pay\").iloc[0]\n",
        "mark_hurd_pay_string"
      ]
    },
    {
      "cell_type": "markdown",
      "metadata": {
        "id": "EzkLdEVPi9Sq"
      },
      "source": [
        "**Pergunta 2.3.** Usando código, converta `mark_hurd_pay_string` em um número de *dólares* e armazene o resultado na variável `mark_hurd_pay`, que deve ser um float.\n",
        "- O método string `strip` será útil para remover o cifrão; remove um caractere especificado do início ou final de uma string. Por exemplo, o valor de `\"100%\".strip(\"%\")` é a string `\"100\"`.\n",
        "- Você também precisará da função `float`, que converte uma string que se parece com um número em um número real.\n",
        "- Por último, lembre-se que a resposta deve ser em dólares, e não em milhões de dólares."
      ]
    },
    {
      "cell_type": "code",
      "execution_count": 186,
      "metadata": {
        "id": "0DWDp38Mi9Sr"
      },
      "outputs": [
        {
          "data": {
            "text/plain": [
              "53250000.0"
            ]
          },
          "execution_count": 186,
          "metadata": {},
          "output_type": "execute_result"
        }
      ],
      "source": [
        "mark_hurd_pay = float(mark_hurd_pay_string.strip('$')) * 1_000_000\n",
        "mark_hurd_pay"
      ]
    },
    {
      "cell_type": "markdown",
      "metadata": {
        "id": "KHaAXEUSi9Sr"
      },
      "source": [
        "Para calcular o salário médio, precisamos fazer isso para cada CEO. Mas parece que isso envolveria copiar esse código 102 vezes... Não, obrigado! 🙅\n",
        "\n",
        "É aqui que entram as funções. Suponha que em vez de `mark_hurd_pay_string`, tivéssemos uma variável chamada `some_pay_string`, formatada da mesma forma que `mark_hurd_pay_string`, com um cifrão seguido por um valor. Agora que fizemos isso para `mark_hurd_pay_string`, poderíamos usar essencialmente o mesmo código em `some_pay_string` para extrair o pagamento como um número de dólares. Você só precisa alterar `mark_hurd_pay_string` em seu código para `some_pay_string`.\n",
        "\n",
        "**Pergunta 2.4.** Dentro da função abaixo, digite a palavra `return` (que deve ficar verde), depois copie a expressão que você usou para calcular `mark_hurd_pay`, mas substitua o `mark_hurd_pay_string` específico pelo genérico `some_pay_string` ."
      ]
    },
    {
      "cell_type": "code",
      "execution_count": 187,
      "metadata": {
        "for_assignment_type": "student",
        "id": "lhCXRG10i9Sr"
      },
      "outputs": [],
      "source": [
        "def convert_pay_string_to_number(some_pay_string):\n",
        "    \"\"\"Converte uma string como '$100' (em milhões) para um número em dólares.\"\"\"\n",
        "    return float(some_pay_string.strip('$')) * 1_000_000"
      ]
    },
    {
      "cell_type": "markdown",
      "metadata": {
        "id": "pDEoiD5di9Sr"
      },
      "source": [
        "Aqui, definimos uma nova função, dando um nome à expressão que converte strings `'Total Pay'` em valores numéricos. Esta função pode converter qualquer string com o formato correto (como \"$100\") em um número que representa milhões de dólares. Posteriormente neste laboratório, veremos o resultado: podemos chamar (usar) essa função em cada string de pagamento no conjunto de dados de uma só vez."
      ]
    },
    {
      "cell_type": "markdown",
      "metadata": {
        "id": "VKuXNzrdi9Sr"
      },
      "source": [
        "Podemos chamar nossa função da mesma forma que chamamos as funções \"built-in\" que vimos. Ela leva um argumento, uma string, e retorna um número."
      ]
    },
    {
      "cell_type": "code",
      "execution_count": 188,
      "metadata": {
        "id": "b-2xbmlDi9Ss"
      },
      "outputs": [
        {
          "data": {
            "text/plain": [
              "42000000.0"
            ]
          },
          "execution_count": 188,
          "metadata": {},
          "output_type": "execute_result"
        }
      ],
      "source": [
        "convert_pay_string_to_number('$42')"
      ]
    },
    {
      "cell_type": "code",
      "execution_count": 189,
      "metadata": {
        "id": "g2_lr6j7i9Ss"
      },
      "outputs": [
        {
          "data": {
            "text/plain": [
              "53250000.0"
            ]
          },
          "execution_count": 189,
          "metadata": {},
          "output_type": "execute_result"
        }
      ],
      "source": [
        "convert_pay_string_to_number(mark_hurd_pay_string)"
      ]
    },
    {
      "cell_type": "code",
      "execution_count": 190,
      "metadata": {
        "id": "1rVFDdCui9Ss"
      },
      "outputs": [
        {
          "data": {
            "text/plain": [
              "53240000.0"
            ]
          },
          "execution_count": 190,
          "metadata": {},
          "output_type": "execute_result"
        }
      ],
      "source": [
        "# Também podemos computar o pagamento de Safra Catzs da mesma forma:\n",
        "convert_pay_string_to_number(raw_compensation.get('Total Pay').iloc[1])"
      ]
    },
    {
      "cell_type": "markdown",
      "metadata": {
        "id": "O8tUeYE-i9Ss"
      },
      "source": [
        "O que ganhamos? Bem, sem a função, teríamos que copiar aquele material `float(some_pay_string.strip(\"$\")) * 1000000` **cada vez** que quiséssemos converter uma string de pagamento. Agora chamamos apenas uma função cujo nome diz exatamente o que está fazendo.\n",
        "\n",
        "Em breve, veremos como aplicar esta função a cada string de pagamento com uma única expressão. Primeiro, vamos aprender mais algumas funções."
      ]
    },
    {
      "cell_type": "markdown",
      "metadata": {
        "id": "N-3bBABbi9Ss"
      },
      "source": [
        "## 3. Definindo Funções ➗\n",
        "\n",
        "Vamos escrever uma função muito simples que converte uma proporção em uma porcentagem multiplicando-a por 100. Por exemplo, o valor de `to_percentage(0.5)` deve ser o número 50. (Sem sinal de porcentagem).\n",
        "\n",
        "Uma definição de função possui algumas partes.\n",
        "\n",
        "#### `def`\n",
        "Sempre começa com `def` (abreviação de **def**ine):\n",
        "\n",
        "    def\n",
        "\n",
        "#### Nome\n",
        "Em seguida vem o nome da função. Vamos chamar nossa função de `to_percentage`.\n",
        "\n",
        "    def to_percentage\n",
        "\n",
        "#### Assinatura\n",
        "\n",
        "Em seguida vem algo chamado *assinatura* da função. Isso informa ao Python quantos *argumentos* sua função deve ter e quais nomes você usará para se referir a esses argumentos no código da função. `to_percentage` deve receber um argumento, e chamaremos esse argumento de `proporção`, pois deve ser uma proporção.\n",
        "\n",
        "    def to_percentage(proportion)\n",
        "\n",
        "Colocamos dois pontos após a assinatura para informar ao Python que acabou.\n",
        "\n",
        "    def to_percentage(proportion):\n",
        "\n",
        "##### Documentação\n",
        "Funções podem fazer coisas complicadas, então **você deve escrever uma explicação do que sua função faz**. Para funções pequenas, isso é menos importante, mas é um bom hábito aprender desde o início. Convencionalmente, as funções Python são documentadas escrevendo uma string entre aspas triplas:\n",
        "\n",
        "    def to_percentage(proportion):\n",
        "    \"\"\"Converte uma proporção em porcentagem.\"\"\"\n",
        "\n",
        "\n",
        "##### Corpo\n",
        "Agora começamos a escrever o código que é executado quando a função é chamada. Isso é chamado de *corpo* da função. Podemos escrever qualquer coisa que escreveríamos em qualquer outro lugar. Primeiro, vamos dar um nome ao número pelo qual multiplicamos uma proporção para obter uma porcentagem.\n",
        "\n",
        "    def to_percentage(proportion):\n",
        "    \"\"\"Converte uma proporção em porcentagem.\"\"\"\n",
        "    fator = 100\n",
        "\n",
        "##### `return`\n",
        "A instrução especial `return` no corpo de uma função diz ao Python para tornar o valor da chamada de função igual ao que vem logo após `return`. A instrução return também *termina a função* e uma vez chamada *nenhuma linha no corpo após será executada*. Então, queremos que o valor de `to_percentage(0.5)` seja a proporção 0.5 vezes o fator 100, então escrevemos:\n",
        "\n",
        "    def to_percentage(proportion):\n",
        "    \"\"\"Converte uma proporção em porcentagem.\"\"\"\n",
        "    fator = 100\n",
        "    return proportion * fator"
      ]
    },
    {
      "cell_type": "markdown",
      "metadata": {
        "id": "EwH3HbLii9Ss"
      },
      "source": [
        "**Questão 3.1.** Defina a função `to_percentage` na célula abaixo. Chame sua função para converter a proporção `0.2` em uma porcentagem. Nomeie essa porcentagem como `vinte_percent`."
      ]
    },
    {
      "cell_type": "code",
      "execution_count": 191,
      "metadata": {
        "for_assignment_type": "student",
        "id": "VwhCIti1i9Ss"
      },
      "outputs": [],
      "source": [
        "def to_percentage(proportion):\n",
        "    \"\"\" Converte uma proporção para porcentagem \"\"\"\n",
        "    factor = 100\n",
        "    return proportion * factor"
      ]
    },
    {
      "cell_type": "code",
      "execution_count": 192,
      "metadata": {
        "id": "voFl03jki9St"
      },
      "outputs": [
        {
          "data": {
            "text/plain": [
              "20.0"
            ]
          },
          "execution_count": 192,
          "metadata": {},
          "output_type": "execute_result"
        }
      ],
      "source": [
        "twenty_percent = to_percentage(0.2)\n",
        "twenty_percent"
      ]
    },
    {
      "cell_type": "markdown",
      "metadata": {
        "id": "uUayO4lZi9St"
      },
      "source": [
        "Assim como as funções integradas, você pode passar nomes de variáveis ​​como argumentos para sua função.\n",
        "\n",
        "**Pergunta 3.2.** Use `to_percentage` novamente para converter a proporção chamada `a_proportion` (definida abaixo) em uma porcentagem chamada `a_percentage`.\n",
        "\n",
        "*Nota:* Você não precisa definir `to_percentage` novamente! Assim como outras coisas nomeadas, as funções permanecem depois que você as define."
      ]
    },
    {
      "cell_type": "code",
      "execution_count": 193,
      "metadata": {
        "id": "f9TLbPTti9St"
      },
      "outputs": [],
      "source": [
        "a_proportion = 2**(0.5) / 2"
      ]
    },
    {
      "cell_type": "code",
      "execution_count": 194,
      "metadata": {
        "id": "S2A5la6Ci9St"
      },
      "outputs": [
        {
          "data": {
            "text/plain": [
              "70.71067811865476"
            ]
          },
          "execution_count": 194,
          "metadata": {},
          "output_type": "execute_result"
        }
      ],
      "source": [
        "a_percentage = to_percentage(a_proportion)\n",
        "a_percentage"
      ]
    },
    {
      "cell_type": "markdown",
      "metadata": {
        "id": "F6PMmkmri9St"
      },
      "source": [
        "Aqui está um fato importante sobre funções: os nomes de variáveis ​​atribuídos dentro do corpo de uma função só são acessíveis dentro do corpo dessa função. Assim que a função retornar, esses nomes desaparecerão. Portanto, mesmo que você tenha definido `factor = 100` dentro de `to_percentage` acima e depois chamado `to_percentage`, o nome da variável `factor` não tem significado fora do corpo de `to_percentage`.\n",
        "\n",
        "Para mostrar o que queremos dizer, execute a célula a seguir. **Isso causa um erro intencionalmente**. 🚨 Quando terminar, comente-a."
      ]
    },
    {
      "cell_type": "code",
      "execution_count": 195,
      "metadata": {
        "id": "2gBbrrb3i9St"
      },
      "outputs": [],
      "source": [
        "# Você deve ver um erro ao rodar isso.\n",
        "#(Caso não veja, você deve ter definido a variável 'factor' em algum lugar acima)\n",
        "\n",
        "#factor"
      ]
    },
    {
      "cell_type": "markdown",
      "metadata": {
        "id": "yQ5DVDpfi9Su"
      },
      "source": [
        "Se quiséssemos, poderíamos definir uma nova variável com o nome `factor` fora da definição de `to_percentage`, e ela poderia ter qualquer valor que quiséssemos."
      ]
    },
    {
      "cell_type": "markdown",
      "metadata": {
        "id": "XXzrBM6ai9Su"
      },
      "source": [
        "Como vimos com as funções integradas, as funções também podem receber strings (ou arrays, ou DataFrames) como argumentos e também podem retornar essas coisas.\n",
        "\n",
        "**Questão 3.3.** Defina uma função chamada `disemvowel`. Deve receber uma única string como argumento. (Você pode chamar esse argumento como quiser.) Ele deve retornar uma cópia dessa string, mas com todos os caracteres que são vogais removidos. Você pode assumir que `disemvowel` só será chamado em strings minúsculas, o que significa que você só precisa se livrar das vogais minúsculas\n",
        ". (Em inglês, as vogais são os caracteres \"a\", \"e\", \"i\", \"o\" e \"u\".)\n",
        "\n",
        "*Dica:* Para remover todos os \"a\"s de uma string, você pode usar `that_string.replace(\"a\", \"\")`. E você pode chamar `replace` várias vezes."
      ]
    },
    {
      "cell_type": "code",
      "execution_count": 196,
      "metadata": {
        "id": "heDPGcafi9Su"
      },
      "outputs": [
        {
          "data": {
            "text/plain": [
              "'vc pd lr ss sm vgs?'"
            ]
          },
          "execution_count": 196,
          "metadata": {},
          "output_type": "execute_result"
        }
      ],
      "source": [
        "def disemvowel(a_string):\n",
        "    for char in \"aeiou\":\n",
        "        a_string = a_string.replace(char, \"\")\n",
        "    return a_string\n",
        "\n",
        "# Um exemplo de chamada da sua função. (Muitas vezes é útil rodar uma chamada de exemplo de tempos em tempos,\n",
        "#conforme você vai escrevendo sua função, para saber como ela está se comportando.)\n",
        "\n",
        "disemvowel(\"voce pode ler isso sem vogais?\")"
      ]
    },
    {
      "cell_type": "markdown",
      "metadata": {
        "id": "i6-_wRL9i9Su"
      },
      "source": [
        "##### Chamadas em chamadas em chamadas\n",
        "Assim como você escreve uma série de linhas para construir um cálculo complexo, é útil definir uma série de pequenas funções que se complementam. Como você pode escrever qualquer código dentro do corpo de uma função, você pode chamar outras funções que escreveu.\n",
        "\n",
        "Se uma função é como uma receita, definir uma função em termos de outras funções é como ter uma receita de bolo 🍰 dizendo para você seguir outra receita para fazer a cobertura e outra para fazer o recheio. Isso torna a receita do bolo mais curta e clara e evita um monte de receitas de glacê duplicadas. É a base da programação produtiva.\n",
        "\n",
        "Por exemplo, suponha que você queira contar o número de caracteres *que não são vogais* em um trecho de texto. Uma maneira de fazer isso é remover todas as vogais e contar o tamanho da string restante.\n",
        "\n",
        "**Questão 3.4.** Escreva uma função chamada `num_non_vowels`. Deve receber uma string como argumento e retornar um número. O número deve ser o número de caracteres na sequência do argumento que não são vogais. Novamente, você pode assumir que `num_non_vowels` só será chamado em strings minúsculas.\n",
        "\n",
        "*Dica:* A função `len` pega uma string como argumento e retorna o número de caracteres nela."
      ]
    },
    {
      "cell_type": "code",
      "execution_count": 197,
      "metadata": {
        "id": "dUIKbfO7i9Su"
      },
      "outputs": [],
      "source": [
        "def num_non_vowels(a_string):\n",
        "    \"\"\"Retorna o número de caracteres que não são vogais em uma string.\"\"\"\n",
        "    return disemvowel(a_string)"
      ]
    },
    {
      "cell_type": "markdown",
      "metadata": {
        "id": "JH-siRAgi9Su"
      },
      "source": [
        "As funções também podem encapsular código que *faz coisas* em vez de apenas calcular valores. Por exemplo, se você chamar `print` dentro de uma função e depois, ao chamar essa função, algo será impresso.\n",
        "\n",
        "O conjunto de dados `movies_by_year` nas notas do curso contém informações sobre as vendas de filmes nos últimos anos. Suponha que você queira exibir o ano com o quinto maior total de vendas brutas de filmes, impresso de forma legível. Você pode fazer isso:"
      ]
    },
    {
      "cell_type": "code",
      "execution_count": 198,
      "metadata": {
        "id": "lSeYcoW0i9Su"
      },
      "outputs": [
        {
          "name": "stdout",
          "output_type": "stream",
          "text": [
            "Ano de número 5 com o maior número de vendas brutas foi 2010\n"
          ]
        }
      ],
      "source": [
        "movies_by_year = bpd.read_csv(\"https://raw.githubusercontent.com/dsc-courses/dsc10-2023-wi/main/labs/lab02/data/movies_by_year.csv\").set_index('Year')\n",
        "rank = 5\n",
        "fifth_from_top_movie_year = movies_by_year.sort_values(by='Total Gross', ascending=False).index[rank-1]\n",
        "\n",
        "print(\"Ano de número\", rank, \"com o maior número de vendas brutas foi\", fifth_from_top_movie_year)"
      ]
    },
    {
      "cell_type": "markdown",
      "metadata": {
        "id": "gURLRnfpi9Sv"
      },
      "source": [
        "Depois de escrever isso, você percebe que também queria imprimir o 2º e o 3º anos mais altos. Em vez de copiar seu código, você decide colocá-lo em uma função. Como a classificação varia, você faz disso um argumento para sua função.\n",
        "\n",
        "**Pergunta 3.5.** Escreva uma função chamada `print_kth_top_movie_year`. Deve levar um único argumento, a classificação do ano (como 2, 3 ou 5 nos exemplos acima). Deve imprimir uma mensagem como a acima. Não deveria ter uma instrução `return`, porque queremos que a função seja impressa, não retorne."
      ]
    },
    {
      "cell_type": "code",
      "execution_count": 199,
      "metadata": {
        "for_assignment_type": "student",
        "id": "rnllwBypi9Sv"
      },
      "outputs": [],
      "source": [
        "def print_kth_top_movie_year(k):\n",
        "    year = movies_by_year.sort_values(by='Total Gross', ascending=False).index[k-1]\n",
        "    print(\"Ano de número\", k, \"com o maior número de vendas brutas foi\", year)"
      ]
    },
    {
      "cell_type": "code",
      "execution_count": 200,
      "metadata": {
        "id": "J16OQXHxi9Sv"
      },
      "outputs": [
        {
          "name": "stdout",
          "output_type": "stream",
          "text": [
            "Ano de número 2 com o maior número de vendas brutas foi 2013\n",
            "Ano de número 3 com o maior número de vendas brutas foi 2012\n"
          ]
        }
      ],
      "source": [
        "# Exemplos de chamadas para sua função\n",
        "print_kth_top_movie_year(2)\n",
        "print_kth_top_movie_year(3)"
      ]
    },
    {
      "cell_type": "markdown",
      "metadata": {
        "id": "M_LbmVswi9Sv"
      },
      "source": [
        "## 4. Aplicando Funções 🩹\n",
        "\n",
        "Definir uma função é como dar um nome a um valor com `=`. Na verdade, uma função é um valor exatamente como o número 1 ou a string `\"hey\"`!\n",
        "\n",
        "Por exemplo, podemos criar um novo nome para a função integrada `max` se quisermos:"
      ]
    },
    {
      "cell_type": "code",
      "execution_count": 201,
      "metadata": {
        "id": "RzBqLf00i9Sv"
      },
      "outputs": [
        {
          "data": {
            "text/plain": [
              "6"
            ]
          },
          "execution_count": 201,
          "metadata": {},
          "output_type": "execute_result"
        }
      ],
      "source": [
        "the_largest_of = max\n",
        "the_largest_of(2, 6)"
      ]
    },
    {
      "cell_type": "markdown",
      "metadata": {
        "id": "2EIfgKnti9Sv"
      },
      "source": [
        "O antigo nome de `max` ainda existe:"
      ]
    },
    {
      "cell_type": "code",
      "execution_count": 202,
      "metadata": {
        "id": "kovYwPqni9Sv"
      },
      "outputs": [
        {
          "data": {
            "text/plain": [
              "6"
            ]
          },
          "execution_count": 202,
          "metadata": {},
          "output_type": "execute_result"
        }
      ],
      "source": [
        "max(2, 6)"
      ]
    },
    {
      "cell_type": "markdown",
      "metadata": {
        "id": "w4W1t-mwi9Sv"
      },
      "source": [
        "Tente apenas escrever `max` ou `the_largest_of` (ou o nome de qualquer outra função) em uma célula e execute essa célula. Python imprimirá uma descrição (muito breve) da função."
      ]
    },
    {
      "cell_type": "code",
      "execution_count": 203,
      "metadata": {
        "id": "nGgj1Vxni9Sv"
      },
      "outputs": [
        {
          "data": {
            "text/plain": [
              "<function max>"
            ]
          },
          "execution_count": 203,
          "metadata": {},
          "output_type": "execute_result"
        }
      ],
      "source": [
        "the_largest_of"
      ]
    },
    {
      "cell_type": "markdown",
      "metadata": {
        "id": "hkmxvl17i9Sv"
      },
      "source": [
        "Por que isso é útil? Como as funções são apenas valores, é possível passá-las como argumentos para outras funções. Aqui está um exemplo simples, mas não tão prático: podemos fazer um array de funções."
      ]
    },
    {
      "cell_type": "code",
      "execution_count": 204,
      "metadata": {
        "id": "wz3XsZ72i9Sv"
      },
      "outputs": [
        {
          "data": {
            "text/plain": [
              "array([<built-in function max>, <function average at 0x0000022BADBEE4B0>,\n",
              "       <class 'type'>], dtype=object)"
            ]
          },
          "execution_count": 204,
          "metadata": {},
          "output_type": "execute_result"
        }
      ],
      "source": [
        "np.array([max, np.average, type])"
      ]
    },
    {
      "cell_type": "markdown",
      "metadata": {
        "id": "SSVtirgNi9Sw"
      },
      "source": [
        "**Pergunta 4.1.** Faça um array contendo quaisquer outras 3 funções que você tenha visto. Chame-o de `some_functions`."
      ]
    },
    {
      "cell_type": "code",
      "execution_count": 205,
      "metadata": {
        "id": "E_HWZEiSi9Sw"
      },
      "outputs": [
        {
          "data": {
            "text/plain": [
              "array([<built-in function min>, <method 'replace' of 'str' objects>,\n",
              "       <method 'strip' of 'str' objects>], dtype=object)"
            ]
          },
          "execution_count": 205,
          "metadata": {},
          "output_type": "execute_result"
        }
      ],
      "source": [
        "some_functions = np.array([min, str.replace, str.strip])\n",
        "some_functions"
      ]
    },
    {
      "cell_type": "markdown",
      "metadata": {
        "id": "gZvUsuqIi9Sw"
      },
      "source": [
        "Trabalhar com funções como valores pode levar a códigos de aparência engraçada. Por exemplo, veja se você consegue descobrir como esta linha de código funciona:"
      ]
    },
    {
      "cell_type": "code",
      "execution_count": 206,
      "metadata": {
        "id": "XI_4CrPqi9Sw"
      },
      "outputs": [
        {
          "data": {
            "text/plain": [
              "7"
            ]
          },
          "execution_count": 206,
          "metadata": {},
          "output_type": "execute_result"
        }
      ],
      "source": [
        "np.array([max, np.average, type])[0](4, -2, 7)"
      ]
    },
    {
      "cell_type": "markdown",
      "metadata": {
        "id": "E1eU45aii9Sw"
      },
      "source": [
        "Aqui está um exemplo mais simples que é realmente útil: o método Series `apply`.\n",
        "`apply` chama uma função muitas vezes, uma vez em *cada* elemento de uma Série, que normalmente vem de uma coluna de um DataFrame. Ele produz uma série de resultados, que podemos querer adicionar a um DataFrame.\n",
        "\n",
        "Aqui está um exemplo. Lembre-se que a coluna `'Total Pay'` do DataFrame `raw_compensation` continha strings:"
      ]
    },
    {
      "cell_type": "code",
      "execution_count": 207,
      "metadata": {
        "id": "JxpPhlWhi9Sw"
      },
      "outputs": [
        {
          "data": {
            "text/plain": [
              "Rank\n",
              "1      $53.25 \n",
              "2      $53.24 \n",
              "3      $44.91 \n",
              "4      $35.98 \n",
              "5      $33.36 \n",
              "        ...   \n",
              "98      $0.94 \n",
              "99      $0.81 \n",
              "100     $0.07 \n",
              "101     $0.04 \n",
              "102     $0.00 \n",
              "Name: Total Pay, Length: 102, dtype: object"
            ]
          },
          "execution_count": 207,
          "metadata": {},
          "output_type": "execute_result"
        }
      ],
      "source": [
        "raw_compensation.get(\"Total Pay\")"
      ]
    },
    {
      "cell_type": "markdown",
      "metadata": {
        "id": "-EsOKJayi9Sw"
      },
      "source": [
        "Escrevemos uma função, `convert_pay_string_to_number`, que converte uma dessas strings em um número.\n",
        "Aqui usamos `apply` para converter o pagamento de cada CEO em um número, usando a função que você definiu:"
      ]
    },
    {
      "cell_type": "markdown",
      "metadata": {
        "id": "xIbOjKimi9Sw"
      },
      "source": [
        "Aqui está uma ilustração do que isso fez:\n",
        "\n",
        "<img src=\"https://raw.githubusercontent.com/dsc-courses/dsc10-2023-wi/main/labs/lab02/data/apply.png\" width=700/>\n",
        "\n",
        "Observe que não escrevemos algo como `convert_pay_string_to_number()` ou `convert_pay_string_to_number(\"Total Pay\")`. A função de `apply` é chamar a função que atribuímos a ele, então, em vez de chamarmos nós mesmos `convert_pay_string_to_number`, apenas escrevemos seu nome como um argumento para `apply`.\n",
        "\n",
        "**Questão 4.2.** Usando `apply`, faça um DataFrame que seja uma cópia de `raw_compensation` com mais uma coluna chamada `'Total_Pay_Dollars'`. Deve ser o resultado da aplicação de `convert_pay_string_to_number` à coluna `'Total Pay'`, como fizemos acima. Chame o novo DataFrame de `compensation`."
      ]
    },
    {
      "cell_type": "code",
      "execution_count": 208,
      "metadata": {
        "id": "9CVnQnUJi9Sw"
      },
      "outputs": [
        {
          "data": {
            "text/plain": [
              "Rank\n",
              "1      53250000.0\n",
              "2      53240000.0\n",
              "3      44910000.0\n",
              "4      35980000.0\n",
              "5      33360000.0\n",
              "          ...    \n",
              "98       940000.0\n",
              "99       810000.0\n",
              "100       70000.0\n",
              "101       40000.0\n",
              "102           0.0\n",
              "Name: Total Pay, Length: 102, dtype: float64"
            ]
          },
          "execution_count": 208,
          "metadata": {},
          "output_type": "execute_result"
        }
      ],
      "source": [
        "compensation = raw_compensation.get(\"Total Pay\").apply(convert_pay_string_to_number)\n",
        "compensation"
      ]
    },
    {
      "cell_type": "markdown",
      "metadata": {
        "id": "ufLMgxkUi9Sw"
      },
      "source": [
        "Agora que temos o pagamento em números, podemos realizar operações aritméticas (e, como resultado, calcular resumos numéricos) sobre os valores dos salários.\n",
        "\n",
        "**Pergunta 4.3.** Calcule o salário total médio dos CEOs no conjunto de dados."
      ]
    },
    {
      "cell_type": "code",
      "execution_count": 209,
      "metadata": {
        "id": "HfNlakwKi9Sx"
      },
      "outputs": [
        {
          "data": {
            "text/plain": [
              "9910000.0"
            ]
          },
          "execution_count": 209,
          "metadata": {},
          "output_type": "execute_result"
        }
      ],
      "source": [
        "average_total_pay = compensation.median()\n",
        "average_total_pay"
      ]
    },
    {
      "cell_type": "markdown",
      "metadata": {
        "id": "U2_MiOFwi9Sx"
      },
      "source": [
        "**Pergunta 4.4.** As empresas pagam os executivos de diversas maneiras: diretamente em dinheiro; concedendo ações ou outro “capital” da empresa; ou com benefícios acessórios (como jatos particulares ✈️). Calcule a proporção do salário de cada CEO que era em dinheiro. (Sua resposta deve ser uma série.)"
      ]
    },
    {
      "cell_type": "code",
      "execution_count": 210,
      "metadata": {
        "id": "fM6YYuPIi9Sx",
        "scrolled": true
      },
      "outputs": [
        {
          "data": {
            "text/plain": [
              "Rank\n",
              "1      0.017840\n",
              "2      0.017844\n",
              "3      0.554220\n",
              "4      0.027793\n",
              "5      0.139388\n",
              "         ...   \n",
              "98     0.989362\n",
              "99     0.876543\n",
              "100    0.000000\n",
              "101    1.000000\n",
              "102         NaN\n",
              "Length: 102, dtype: float64"
            ]
          },
          "execution_count": 210,
          "metadata": {},
          "output_type": "execute_result"
        }
      ],
      "source": [
        "cash_proportion = raw_compensation.get(\"Cash Pay\").apply(convert_pay_string_to_number) / raw_compensation.get(\"Total Pay\").apply(convert_pay_string_to_number)\n",
        "cash_proportion"
      ]
    },
    {
      "cell_type": "markdown",
      "metadata": {
        "id": "HzKzS898i9Sx"
      },
      "source": [
        "Observe atentamente o resultado. A última linha tem um valor estranho, `NaN`. `NaN` significa \"não é um número\".\n",
        "\n",
        "<img width=500 src=\"https://raw.githubusercontent.com/dsc-courses/dsc10-2023-wi/main/labs/lab02/data/nan.png\"/>"
      ]
    },
    {
      "cell_type": "markdown",
      "metadata": {
        "id": "BXUQBRrhi9Sx"
      },
      "source": [
        "Vejamos as últimas linhas do DataFrame:"
      ]
    },
    {
      "cell_type": "code",
      "execution_count": 211,
      "metadata": {
        "id": "u9HFLnHzi9Sx",
        "scrolled": true
      },
      "outputs": [
        {
          "data": {
            "text/plain": [
              "Rank\n",
              "98     940000.0\n",
              "99     810000.0\n",
              "100     70000.0\n",
              "101     40000.0\n",
              "102         0.0\n",
              "Name: Total Pay, dtype: float64"
            ]
          },
          "execution_count": 211,
          "metadata": {},
          "output_type": "execute_result"
        }
      ],
      "source": [
        "compensation.take(np.arange(-5, 0))"
      ]
    },
    {
      "cell_type": "markdown",
      "metadata": {
        "id": "Y8gYcr-qi9Sx"
      },
      "source": [
        "Notou algo estranho?\n",
        "\n",
        "**Pergunta 4.5.** Por que obtivemos o `NaN`? Atribua 1, 2, 3 ou 4 ao nome `apply_part5` abaixo.\n",
        "1. A proporção seria 0. Python só pode calcular números diferentes de zero.\n",
        "2. A `'Proporção entre o salário do CEO e o salário médio do trabalhador da indústria'` é arredondado para 0, o que o Python não sabe como lidar.\n",
        "3. O cálculo é dividido por 0, portanto o resultado não é um número."
      ]
    },
    {
      "cell_type": "code",
      "execution_count": 212,
      "metadata": {
        "id": "X06b-SaBi9Sy"
      },
      "outputs": [],
      "source": [
        "apply_part5 = 3"
      ]
    },
    {
      "cell_type": "markdown",
      "metadata": {
        "id": "RnH5t9xri9Sy"
      },
      "source": [
        "Muitos dados reais são confusos. Pode conter zeros, valores vazios ou `NaN`'s (não-um-número) que precisamos observar ao realizar cálculos!"
      ]
    },
    {
      "cell_type": "markdown",
      "metadata": {
        "id": "thWJzdHOi9Sy"
      },
      "source": [
        "Tudo bem, de volta aos nossos CEOs. Confira a coluna `'% Change'` em `compensation`. Mostra o aumento percentual na remuneração do CEO em relação ao ano anterior. Para CEOs sem nenhum ano anterior registrado, em vez disso diz `'(No previous year)'`. Os valores nesta coluna são *strings*, não números, portanto, assim como a coluna `'Total Pay'`, ela não pode ser usada sem um pouco de trabalho extra.\n",
        "\n",
        "Dado o seu salário atual e o aumento percentual em relação ao ano anterior, você pode calcular o salário do ano anterior. O salário deste ano e o salário do ano passado estão relacionados pela fórmula:\n",
        "\n",
        "$$\\text{salário deste ano} = \\text{salário do ano passado} \\cdot \\left(1+\\dfrac{\\text{aumento percentual}}{100}\\right)$$\n",
        "\n",
        "Por exemplo, se você ganhou \\$600 no ano passado e seu salário aumentou 50\\%, então\n",
        "\n",
        "$$\\begin{align}\n",
        "\\text{pagamento deste ano} &= \\text{600} \\cdot \\left(1+\\dfrac{\\text{50}}{100}\\right)\\\\\n",
        "&= \\text{600} \\cdot (1.5) \\\\\n",
        "&= 900\n",
        "\\end{align}$$\n",
        "\n",
        "Como sabemos como o salário deste ano e o salário do ano passado estão matematicamente relacionados, podemos resolver esta equação para o salário do ano passado para fornecer uma fórmula para o salário do ano anterior se conhecermos o salário do ano atual e o aumento percentual do ano anterior para o ano atual. Fazendo um pouco de álgebra, encontramos:\n",
        "\n",
        "$$\\text{salário do ano passado} = \\dfrac{\\text{salário deste ano}}{\\left(1+\\dfrac{\\text{aumento percentual}}{100}\\right)}$$\n",
        "\n",
        "**Pergunta 4.6.** Crie um novo DataFrame chamado `with_previous_compensation`. Deve ser uma cópia de `compensation`, mas com os CEOs `'(No previous year)'` filtrados, e com uma coluna extra chamada `'Previous_Total_Pay'`. Essa coluna deve conter o salário de cada CEO em 2014.\n",
        "\n",
        "*Dica 1:* Esta pergunta envolve vários passos, mas cada um envolve algo que você já aprendeu a fazer. Dê um passo de cada vez, usando quantas linhas forem necessárias. Você pode imprimir seus resultados após cada etapa para ter certeza de que está no caminho certo.\n",
        "\n",
        "*Dica 2:* Você precisará definir uma função para converter strings de porcentagem, como `'-15%'`, em números. Você pode fazer isso logo acima do outro código.\n",
        "\n",
        "*Dica 3:* Se você vir um erro dizendo `unsupported operand type(s) for +: 'int' and 'Series'`, tente mudar a ordem de sua operação. Em vez de escrever algo como `1 + series`, escreva `series + 1`."
      ]
    },
    {
      "cell_type": "code",
      "execution_count": 213,
      "metadata": {
        "for_assignment_type": "student",
        "id": "X7DRVpAIi9Sy"
      },
      "outputs": [
        {
          "data": {
            "text/html": [
              "<div>\n",
              "<style scoped>\n",
              "    .dataframe tbody tr th:only-of-type {\n",
              "        vertical-align: middle;\n",
              "    }\n",
              "\n",
              "    .dataframe tbody tr th {\n",
              "        vertical-align: top;\n",
              "    }\n",
              "\n",
              "    .dataframe thead th {\n",
              "        text-align: right;\n",
              "    }\n",
              "</style>\n",
              "<table border=\"1\" class=\"dataframe\">\n",
              "  <thead>\n",
              "    <tr style=\"text-align: right;\">\n",
              "      <th></th>\n",
              "      <th>Name</th>\n",
              "      <th>Company (Headquarters)</th>\n",
              "      <th>Total Pay</th>\n",
              "      <th>% Change</th>\n",
              "      <th>Cash Pay</th>\n",
              "      <th>Equity Pay</th>\n",
              "      <th>Other Pay</th>\n",
              "      <th>Ratio of CEO pay to average industry worker pay</th>\n",
              "      <th>Previous_Compensation</th>\n",
              "    </tr>\n",
              "    <tr>\n",
              "      <th>Rank</th>\n",
              "      <th></th>\n",
              "      <th></th>\n",
              "      <th></th>\n",
              "      <th></th>\n",
              "      <th></th>\n",
              "      <th></th>\n",
              "      <th></th>\n",
              "      <th></th>\n",
              "      <th></th>\n",
              "    </tr>\n",
              "  </thead>\n",
              "  <tbody>\n",
              "    <tr>\n",
              "      <th>1</th>\n",
              "      <td>Mark V. Hurd*</td>\n",
              "      <td>Oracle (Redwood City)</td>\n",
              "      <td>$53.25</td>\n",
              "      <td>(No previous year)</td>\n",
              "      <td>$0.95</td>\n",
              "      <td>$52.27</td>\n",
              "      <td>$0.02</td>\n",
              "      <td>362.00000</td>\n",
              "      <td>53.250000</td>\n",
              "    </tr>\n",
              "    <tr>\n",
              "      <th>2</th>\n",
              "      <td>Safra A. Catz*</td>\n",
              "      <td>Oracle (Redwood City)</td>\n",
              "      <td>$53.24</td>\n",
              "      <td>(No previous year)</td>\n",
              "      <td>$0.95</td>\n",
              "      <td>$52.27</td>\n",
              "      <td>$0.02</td>\n",
              "      <td>362.00000</td>\n",
              "      <td>53.240000</td>\n",
              "    </tr>\n",
              "    <tr>\n",
              "      <th>3</th>\n",
              "      <td>Robert A. Iger</td>\n",
              "      <td>Walt Disney (Burbank)</td>\n",
              "      <td>$44.91</td>\n",
              "      <td>-3%</td>\n",
              "      <td>$24.89</td>\n",
              "      <td>$17.28</td>\n",
              "      <td>$2.74</td>\n",
              "      <td>477.00000</td>\n",
              "      <td>46.298969</td>\n",
              "    </tr>\n",
              "    <tr>\n",
              "      <th>4</th>\n",
              "      <td>Marissa A. Mayer</td>\n",
              "      <td>Yahoo! (Sunnyvale)</td>\n",
              "      <td>$35.98</td>\n",
              "      <td>-15%</td>\n",
              "      <td>$1.00</td>\n",
              "      <td>$34.43</td>\n",
              "      <td>$0.55</td>\n",
              "      <td>342.00000</td>\n",
              "      <td>42.329412</td>\n",
              "    </tr>\n",
              "    <tr>\n",
              "      <th>5</th>\n",
              "      <td>Marc Benioff</td>\n",
              "      <td>salesforce.com (San Francisco)</td>\n",
              "      <td>$33.36</td>\n",
              "      <td>-16%</td>\n",
              "      <td>$4.65</td>\n",
              "      <td>$27.26</td>\n",
              "      <td>$1.45</td>\n",
              "      <td>338.00000</td>\n",
              "      <td>39.714286</td>\n",
              "    </tr>\n",
              "    <tr>\n",
              "      <th>...</th>\n",
              "      <td>...</td>\n",
              "      <td>...</td>\n",
              "      <td>...</td>\n",
              "      <td>...</td>\n",
              "      <td>...</td>\n",
              "      <td>...</td>\n",
              "      <td>...</td>\n",
              "      <td>...</td>\n",
              "      <td>...</td>\n",
              "    </tr>\n",
              "    <tr>\n",
              "      <th>98</th>\n",
              "      <td>Gregory N. Roberts</td>\n",
              "      <td>A-Mark Precious Metals (Santa Monica)</td>\n",
              "      <td>$0.94</td>\n",
              "      <td>-11%</td>\n",
              "      <td>$0.93</td>\n",
              "      <td>$0.00</td>\n",
              "      <td>$0.02</td>\n",
              "      <td>17.00000</td>\n",
              "      <td>1.056180</td>\n",
              "    </tr>\n",
              "    <tr>\n",
              "      <th>99</th>\n",
              "      <td>Jose L. Laparte</td>\n",
              "      <td>PriceSmart (San Diego)</td>\n",
              "      <td>$0.81</td>\n",
              "      <td>-7%</td>\n",
              "      <td>$0.71</td>\n",
              "      <td>$0.00</td>\n",
              "      <td>$0.10</td>\n",
              "      <td>32.00000</td>\n",
              "      <td>0.870968</td>\n",
              "    </tr>\n",
              "    <tr>\n",
              "      <th>100</th>\n",
              "      <td>Jack Dorsey</td>\n",
              "      <td>Twitter (San Francisco)</td>\n",
              "      <td>$0.07</td>\n",
              "      <td>(No previous year)</td>\n",
              "      <td>$0.00</td>\n",
              "      <td>$0.00</td>\n",
              "      <td>$0.07</td>\n",
              "      <td>0.63000</td>\n",
              "      <td>0.070000</td>\n",
              "    </tr>\n",
              "    <tr>\n",
              "      <th>101</th>\n",
              "      <td>Elon R. Musk</td>\n",
              "      <td>Tesla Motors (Palo Alto)</td>\n",
              "      <td>$0.04</td>\n",
              "      <td>6%</td>\n",
              "      <td>$0.04</td>\n",
              "      <td>$0.00</td>\n",
              "      <td>$0.00</td>\n",
              "      <td>0.46000</td>\n",
              "      <td>0.037736</td>\n",
              "    </tr>\n",
              "    <tr>\n",
              "      <th>102</th>\n",
              "      <td>Lawrence Page***</td>\n",
              "      <td>Alphabet (Mountain View)</td>\n",
              "      <td>$0.00</td>\n",
              "      <td>0%</td>\n",
              "      <td>$0.00</td>\n",
              "      <td>$0.00</td>\n",
              "      <td>$0.00</td>\n",
              "      <td>0.00001</td>\n",
              "      <td>0.000000</td>\n",
              "    </tr>\n",
              "  </tbody>\n",
              "</table>\n",
              "<p>102 rows × 9 columns</p>\n",
              "</div>"
            ],
            "text/plain": [
              "                    Name                 Company (Headquarters) Total Pay  \\\n",
              "Rank                                                                        \n",
              "1          Mark V. Hurd*                  Oracle (Redwood City)   $53.25    \n",
              "2         Safra A. Catz*                  Oracle (Redwood City)   $53.24    \n",
              "3         Robert A. Iger                  Walt Disney (Burbank)   $44.91    \n",
              "4       Marissa A. Mayer                     Yahoo! (Sunnyvale)   $35.98    \n",
              "5           Marc Benioff         salesforce.com (San Francisco)   $33.36    \n",
              "...                  ...                                    ...       ...   \n",
              "98    Gregory N. Roberts  A-Mark Precious Metals (Santa Monica)    $0.94    \n",
              "99       Jose L. Laparte                 PriceSmart (San Diego)    $0.81    \n",
              "100          Jack Dorsey                Twitter (San Francisco)    $0.07    \n",
              "101         Elon R. Musk               Tesla Motors (Palo Alto)    $0.04    \n",
              "102     Lawrence Page***               Alphabet (Mountain View)    $0.00    \n",
              "\n",
              "                % Change Cash Pay Equity Pay Other Pay  \\\n",
              "Rank                                                     \n",
              "1     (No previous year)   $0.95     $52.27     $0.02    \n",
              "2     (No previous year)   $0.95     $52.27     $0.02    \n",
              "3                    -3%  $24.89     $17.28     $2.74    \n",
              "4                   -15%   $1.00     $34.43     $0.55    \n",
              "5                   -16%   $4.65     $27.26     $1.45    \n",
              "...                  ...      ...        ...       ...   \n",
              "98                  -11%   $0.93      $0.00     $0.02    \n",
              "99                   -7%   $0.71      $0.00     $0.10    \n",
              "100   (No previous year)   $0.00      $0.00     $0.07    \n",
              "101                   6%   $0.04      $0.00     $0.00    \n",
              "102                   0%   $0.00      $0.00     $0.00    \n",
              "\n",
              "      Ratio of CEO pay to average industry worker pay  Previous_Compensation  \n",
              "Rank                                                                          \n",
              "1                                           362.00000              53.250000  \n",
              "2                                           362.00000              53.240000  \n",
              "3                                           477.00000              46.298969  \n",
              "4                                           342.00000              42.329412  \n",
              "5                                           338.00000              39.714286  \n",
              "...                                               ...                    ...  \n",
              "98                                           17.00000               1.056180  \n",
              "99                                           32.00000               0.870968  \n",
              "100                                           0.63000               0.070000  \n",
              "101                                           0.46000               0.037736  \n",
              "102                                           0.00001               0.000000  \n",
              "\n",
              "[102 rows x 9 columns]"
            ]
          },
          "execution_count": 213,
          "metadata": {},
          "output_type": "execute_result"
        }
      ],
      "source": [
        "# Você pode escrever códigos de passos intermediários aqui!\n",
        "def to_number (percentage):\n",
        "    if (percentage == \"(No previous year)\"):\n",
        "        return 0\n",
        "        \n",
        "    return float(percentage.strip('%')) / 100\n",
        "\n",
        "percent_change = raw_compensation.get('% Change').apply(to_number)\n",
        "previous_compensation = compensation / (percent_change + 1)\n",
        "previous_compensation = previous_compensation / 1_000_000\n",
        "with_previous_compensation = raw_compensation.assign(Previous_Compensation=previous_compensation.values)\n",
        "with_previous_compensation"
      ]
    },
    {
      "cell_type": "markdown",
      "metadata": {
        "id": "6SRQJZgNi9Sy"
      },
      "source": [
        "**Pergunta 4.7.** Qual foi o salário médio desses CEOs em 2014?"
      ]
    },
    {
      "cell_type": "code",
      "execution_count": 214,
      "metadata": {
        "id": "EtgBxQ59i9Sy"
      },
      "outputs": [
        {
          "data": {
            "text/plain": [
              "9.368878504672896"
            ]
          },
          "execution_count": 214,
          "metadata": {},
          "output_type": "execute_result"
        }
      ],
      "source": [
        "average_pay_2014 = with_previous_compensation.get(\"Previous_Compensation\").median()\n",
        "average_pay_2014"
      ]
    },
    {
      "cell_type": "markdown",
      "metadata": {
        "id": "qHTZFBfPi9Sy"
      },
      "source": [
        "## 5. Distribuição de Riqueza 💰\n",
        "Anteriormente, calculamos a remuneração média entre os CEOs em nosso conjunto de dados de 102 CEOs. No entanto, a média não nos diz tudo sobre os montantes pagos aos CEO. Talvez apenas alguns CEOs ganhem a maior parte do dinheiro, mesmo entre estes 102.\n",
        "\n",
        "Podemos usar um *histograma de densidade* para exibir mais informações sobre um conjunto de números. [Aqui está um exemplo](https://dsc10.com/resources/lectures/lec07/lec07.html#Plotting-a-density-histogram) do código que usamos para criar histogramas.\n",
        "\n",
        "**Questão 5.1.** Faça um histograma de densidade da remuneração dos CEOs em `compensation`."
      ]
    },
    {
      "cell_type": "code",
      "execution_count": 215,
      "metadata": {
        "id": "_pyc1rwOi9Sz"
      },
      "outputs": [
        {
          "data": {
            "text/plain": [
              "<Axes: ylabel='Frequency'>"
            ]
          },
          "execution_count": 215,
          "metadata": {},
          "output_type": "execute_result"
        },
        {
          "data": {
            "image/png": "[encoded data removed]",
            "text/plain": [
              "<Figure size 1000x600 with 1 Axes>"
            ]
          },
          "metadata": {},
          "output_type": "display_data"
        }
      ],
      "source": [
        "# Coloque seu código aqui\n",
        "new_pay = with_previous_compensation.get('Total Pay').apply(convert_pay_string_to_number)\n",
        "with_previous_compensation = with_previous_compensation.assign(Pay_Float=new_pay.values)\n",
        "with_previous_compensation.plot(kind=\"hist\", y='Pay_Float', density=True)"
      ]
    },
    {
      "cell_type": "markdown",
      "metadata": {
        "id": "sp4kR_Cvi9Sz"
      },
      "source": [
        "**Pergunta 5.2.** Olhando para o histograma, quantos CEOs ganharam mais de \\$30 milhões? Faça um bom palpite. (Responda à pergunta preenchendo sua resposta manualmente. Você terá que fazer um pouco de aritmética; sinta-se à vontade para usar Python como calculadora.)"
      ]
    },
    {
      "cell_type": "code",
      "execution_count": 216,
      "metadata": {
        "id": "xUX0KdfLi9Sz"
      },
      "outputs": [],
      "source": [
        "num_ceos_more_than_30_million = 90"
      ]
    },
    {
      "cell_type": "markdown",
      "metadata": {
        "id": "HiSndxvzi9Sz"
      },
      "source": [
        "**Pergunta 5.3.** Responda a mesma pergunta com código. Ou seja, encontre o número de CEOs com um salário total superior a \\$30 milhões usando código e atribua o resultado ao nome `num_ceos_more_than_30_million_code`."
      ]
    },
    {
      "cell_type": "code",
      "execution_count": 217,
      "metadata": {
        "id": "7gOB8eMgi9Sz"
      },
      "outputs": [
        {
          "data": {
            "text/plain": [
              "101"
            ]
          },
          "execution_count": 217,
          "metadata": {},
          "output_type": "execute_result"
        }
      ],
      "source": [
        "num_ceos_more_than_30_million_code = with_previous_compensation[with_previous_compensation.get('Pay_Float') > 30].shape[0]\n",
        "num_ceos_more_than_30_million_code"
      ]
    },
    {
      "cell_type": "markdown",
      "metadata": {
        "id": "RHFBSEkKi9Sz"
      },
      "source": [
        "Execute a próxima célula se quiser ver a que distância você estava."
      ]
    },
    {
      "cell_type": "code",
      "execution_count": 218,
      "metadata": {
        "id": "gBHbxd0Ji9Sz"
      },
      "outputs": [
        {
          "name": "stdout",
          "output_type": "stream",
          "text": [
            "Seu chute estava 10.891089108910892% errado!\n"
          ]
        }
      ],
      "source": [
        "percent_diff = abs(num_ceos_more_than_30_million - num_ceos_more_than_30_million_code) / num_ceos_more_than_30_million_code\n",
        "print(f\"Seu chute estava {percent_diff * 100}% errado!\")"
      ]
    },
    {
      "cell_type": "markdown",
      "metadata": {
        "id": "t1k1UpEti9Sz"
      },
      "source": [
        "# Linha de chegada 🏁\n",
        "\n",
        "Parabéns! Você concluiu o Laboratório 2.\n",
        "\n",
        "Para enviar sua tarefa:\n",
        "\n",
        "1. Selecione `Kernel -> Reiniciar e executar tudo` para garantir que você executou todas as células, incluindo as células de teste.\n",
        "2. Leia o caderno para ter certeza de que está tudo bem e que suas respostas foram computadas.\n",
        "3. Baixe seu notebook usando `Arquivo -> Baixar como -> Notebook (.ipynb)` e, em seguida, carregue seu notebook para o Moodle."
      ]
    }
  ],
  "metadata": {
    "anaconda-cloud": {},
    "colab": {
      "include_colab_link": true,
      "provenance": []
    },
    "kernelspec": {
      "display_name": "Python 3 (ipykernel)",
      "language": "python",
      "name": "python3"
    },
    "language_info": {
      "codemirror_mode": {
        "name": "ipython",
        "version": 3
      },
      "file_extension": ".py",
      "mimetype": "text/x-python",
      "name": "python",
      "nbconvert_exporter": "python",
      "pygments_lexer": "ipython3",
      "version": "3.11.9"
    },
    "toc": {
      "base_numbering": 1,
      "nav_menu": {},
      "number_sections": true,
      "sideBar": true,
      "skip_h1_title": false,
      "title_cell": "Table of Contents",
      "title_sidebar": "Contents",
      "toc_cell": false,
      "toc_position": {},
      "toc_section_display": true,
      "toc_window_display": false
    }
  },
  "nbformat": 4,
  "nbformat_minor": 0
}
